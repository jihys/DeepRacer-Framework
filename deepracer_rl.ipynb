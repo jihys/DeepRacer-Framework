{
 "cells": [
  {
   "cell_type": "markdown",
   "metadata": {},
   "source": [
    "# Distributed DeepRacer RL training with SageMaker and RoboMaker\n",
    "\n",
    "---\n",
    "## Introduction\n",
    "\n",
    "\n",
    "In this notebook, we will train a fully autonomous 1/18th scale race car using reinforcement learning using Amazon SageMaker RL and AWS RoboMaker's 3D driving simulator. [AWS RoboMaker](https://console.aws.amazon.com/robomaker/home#welcome) is a service that makes it easy for developers to develop, test, and deploy robotics applications.  \n",
    "\n",
    "This notebook provides a jailbreak experience of [AWS DeepRacer](https://console.aws.amazon.com/deepracer/home#welcome), giving us more control over the training/simulation process and RL algorithm tuning.\n",
    "\n",
    "![Training in Action](./deepracer-reinvent-track.jpg)\n",
    "\n",
    "\n",
    "---\n",
    "## How it works?  \n",
    "\n",
    "![How training works](./training.png)\n",
    "\n",
    "The reinforcement learning agent (i.e. our autonomous car) learns to drive by interacting with its environment, e.g., the track, by taking an action in a given state to maximize the expected reward. The agent learns the optimal plan of actions in training by trial-and-error through repeated episodes.  \n",
    "  \n",
    "The figure above shows an example of distributed RL training across SageMaker and two RoboMaker simulation envrionments that perform the **rollouts** - execute a fixed number of episodes using the current model or policy. The rollouts collect agent experiences (state-transition tuples) and share this data with SageMaker for training. SageMaker updates the model policy which is then used to execute the next sequence of rollouts. This training loop continues until the model converges, i.e. the car learns to drive and stops going off-track. More formally, we can define the problem in terms of the following:  \n",
    "\n",
    "1. **Objective**: Learn to drive autonomously by staying close to the center of the track.\n",
    "2. **Environment**: A 3D driving simulator hosted on AWS RoboMaker.\n",
    "3. **State**: The driving POV image captured by the car's head camera, as shown in the illustration above.\n",
    "4. **Action**: Six discrete steering wheel positions at different angles (configurable)\n",
    "5. **Reward**: Positive reward for staying close to the center line; High penalty for going off-track. This is configurable and can be made more complex (for e.g. steering penalty can be added)."
   ]
  },
  {
   "cell_type": "markdown",
   "metadata": {},
   "source": [
    "## Prequisites"
   ]
  },
  {
   "cell_type": "markdown",
   "metadata": {},
   "source": [
    "### Use below commands only if you want to make changes to the simulation application (Robomaker code changes)"
   ]
  },
  {
   "cell_type": "code",
   "execution_count": 30,
   "metadata": {},
   "outputs": [],
   "source": [
    "# #\n",
    "# # Run these commands if you want to modify the simapp\n",
    "# #\n",
    "# # Clean the build directory if present\n",
    "# !python3 sim_app_bundler.py --clean\n",
    "\n",
    "# # Download Robomaker simApp from the deepracer public s3 bucket\n",
    "# simulation_application_bundle_location = \"s3://deepracer-managed-resources-us-east-1/deepracer-simapp-notebook.tar.gz\"\n",
    "# !aws s3 cp {simulation_application_bundle_location} ./\n",
    "\n",
    "# # Untar the simapp bundle\n",
    "# !python3 sim_app_bundler.py --untar ./deepracer-simapp.tar.gz\n",
    "\n",
    "# # Now modify the simapp from build directory and run this command.\n",
    "\n",
    "# # Most of the simapp files can be found here (Robomaker changes)\n",
    "# # bundle/opt/install/sagemaker_rl_agent/lib/python3.5/site-packages/\n",
    "# # bundle/opt/install/deepracer_simulation_environment/share/deepracer_simulation_environment/\n",
    "# # bundle/opt/install/deepracer_simulation_environment/lib/deepracer_simulation_environment/\n",
    "\n",
    "# # Copying the notebook src/markov changes to the simapp (For sagemaker container)\n",
    "# !rsync -av ./src/markov/ ./build/simapp/bundle/opt/install/sagemaker_rl_agent/lib/python3.5/site-packages/markov\n",
    "\n",
    "# !python3 sim_app_bundler.py --tar"
   ]
  },
  {
   "cell_type": "markdown",
   "metadata": {},
   "source": [
    "### Imports"
   ]
  },
  {
   "cell_type": "markdown",
   "metadata": {},
   "source": [
    "To get started, we'll import the Python libraries we need, set up the environment with a few prerequisites for permissions and configurations.\n",
    "\n",
    "You can run this notebook from your local machine or from a SageMaker notebook instance. In both of these scenarios, you can run the following to launch a training job on SageMaker and a simulation job on RoboMaker."
   ]
  },
  {
   "cell_type": "code",
   "execution_count": 1,
   "metadata": {
    "scrolled": true
   },
   "outputs": [],
   "source": [
    "import boto3\n",
    "import sagemaker\n",
    "import sys\n",
    "import os\n",
    "import re\n",
    "import numpy as np\n",
    "import subprocess\n",
    "sys.path.append(\"common\")\n",
    "from misc import get_execution_role, wait_for_s3_object\n",
    "from docker_utils import build_and_push_docker_image\n",
    "from sagemaker.rl import RLEstimator, RLToolkit, RLFramework\n",
    "from time import gmtime, strftime\n",
    "import time\n",
    "from IPython.display import Markdown\n",
    "from markdown_helper import *\n",
    "\n",
    "import pandas as pd\n",
    "import json\n",
    "import matplotlib.pyplot as plt\n",
    "import matplotlib.animation as animation\n",
    "from IPython.display import display, clear_output\n"
   ]
  },
  {
   "cell_type": "markdown",
   "metadata": {},
   "source": [
    "### Initializing basic parameters"
   ]
  },
  {
   "cell_type": "code",
   "execution_count": 9,
   "metadata": {},
   "outputs": [],
   "source": [
    "# Select the instance type\n",
    "instance_type = \"ml.c4.2xlarge\"\n",
    "#instance_type = \"ml.p2.xlarge\"\n",
    "#instance_type = \"ml.c5.4xlarge\"\n",
    "\n",
    "# Starting SageMaker session\n",
    "sage_session = sagemaker.session.Session()\n",
    "\n",
    "# Create unique job name.\n",
    "job_name_prefix = 'deepracer-notebook-3'\n",
    "\n",
    "# Duration of job in seconds (1 hours)\n",
    "job_duration_in_seconds = 3600\n",
    "\n",
    "# AWS Region\n",
    "aws_region = sage_session.boto_region_name\n",
    "if aws_region not in [\"us-west-2\", \"us-east-1\", \"eu-west-1\"]:\n",
    "    raise Exception(\"This notebook uses RoboMaker which is available only in US East (N. Virginia),\"\n",
    "                    \"US West (Oregon) and EU (Ireland). Please switch to one of these regions.\")"
   ]
  },
  {
   "cell_type": "markdown",
   "metadata": {},
   "source": [
    "### Setup S3 bucket\n",
    "Set up the linkage and authentication to the S3 bucket that we want to use for checkpoint and metadata."
   ]
  },
  {
   "cell_type": "code",
   "execution_count": 10,
   "metadata": {},
   "outputs": [
    {
     "name": "stdout",
     "output_type": "stream",
     "text": [
      "Using s3 bucket sagemaker-us-east-1-170991494985\n",
      "Model checkpoints and other metadata will be stored at: \n",
      "s3://sagemaker-us-east-1-170991494985/deepracer-notebook-3-sagemaker-191223-032202\n"
     ]
    }
   ],
   "source": [
    "# S3 bucket\n",
    "s3_bucket = sage_session.default_bucket()\n",
    "\n",
    "# SDK appends the job name and output folder\n",
    "s3_output_path = 's3://{}/'.format(s3_bucket)\n",
    "\n",
    "#Ensure that the S3 prefix contains the keyword 'sagemaker'\n",
    "s3_prefix = job_name_prefix + \"-sagemaker-\" + strftime(\"%y%m%d-%H%M%S\", gmtime())\n",
    "\n",
    "# Get the AWS account id of this account\n",
    "sts = boto3.client(\"sts\")\n",
    "account_id = sts.get_caller_identity()['Account']\n",
    "\n",
    "print(\"Using s3 bucket {}\".format(s3_bucket))\n",
    "print(\"Model checkpoints and other metadata will be stored at: \\ns3://{}/{}\".format(s3_bucket, s3_prefix))"
   ]
  },
  {
   "cell_type": "markdown",
   "metadata": {},
   "source": [
    "### Create an IAM role\n",
    "Either get the execution role when running from a SageMaker notebook `role = sagemaker.get_execution_role()` or, when running from local machine, use utils method `role = get_execution_role('role_name')` to create an execution role."
   ]
  },
  {
   "cell_type": "code",
   "execution_count": 2,
   "metadata": {},
   "outputs": [
    {
     "name": "stdout",
     "output_type": "stream",
     "text": [
      "Using Sagemaker IAM role arn: \n",
      "arn:aws:iam::170991494985:role/service-role/AmazonSageMaker-ExecutionRole-20191119T175598\n"
     ]
    }
   ],
   "source": [
    "try:\n",
    "    sagemaker_role = sagemaker.get_execution_role()\n",
    "except:\n",
    "    sagemaker_role = get_execution_role('sagemaker')\n",
    "\n",
    "print(\"Using Sagemaker IAM role arn: \\n{}\".format(sagemaker_role))"
   ]
  },
  {
   "cell_type": "markdown",
   "metadata": {},
   "source": [
    "> Please note that this notebook cannot be run in `SageMaker local mode` as the simulator is based on AWS RoboMaker service."
   ]
  },
  {
   "cell_type": "markdown",
   "metadata": {},
   "source": [
    "### Permission setup for invoking AWS RoboMaker from this notebook\n",
    "In order to enable this notebook to be able to execute AWS RoboMaker jobs, we need to add one trust relationship to the default execution role of this notebook."
   ]
  },
  {
   "cell_type": "code",
   "execution_count": 3,
   "metadata": {},
   "outputs": [
    {
     "data": {
      "text/markdown": [
       "1. Go to IAM console to edit current SageMaker role: [AmazonSageMaker-ExecutionRole-20191119T175598](https://console.aws.amazon.com/iam/home#/roles/AmazonSageMaker-ExecutionRole-20191119T175598).\n",
       "2. Next, go to the `Trust relationships tab` and click on `Edit Trust Relationship.` \n",
       "3. Replace the JSON blob with the following:\n",
       "```json\n",
       "            {\n",
       "              \"Version\": \"2012-10-17\",\n",
       "              \"Statement\": [\n",
       "                {\n",
       "                  \"Effect\": \"Allow\",\n",
       "                  \"Principal\": {\n",
       "                    \"Service\": [\n",
       "                      \"sagemaker.amazonaws.com\",\n",
       "                      \"robomaker.amazonaws.com\"\n",
       "                    ]\n",
       "                  },\n",
       "                  \"Action\": \"sts:AssumeRole\"\n",
       "                }\n",
       "              ]\n",
       "            }```\n",
       "4. Once this is complete, click on Update Trust Policy and you are done."
      ],
      "text/plain": [
       "<IPython.core.display.Markdown object>"
      ]
     },
     "metadata": {},
     "output_type": "display_data"
    }
   ],
   "source": [
    "display(Markdown(generate_help_for_robomaker_trust_relationship(sagemaker_role)))"
   ]
  },
  {
   "cell_type": "markdown",
   "metadata": {},
   "source": [
    "### Permission setup for Sagemaker to S3 bucket\n",
    "\n",
    "The sagemaker writes the Redis IP address, models to the S3 bucket. This requires PutObject permission on the bucket. Make sure the sagemaker role you are using as this permissions."
   ]
  },
  {
   "cell_type": "code",
   "execution_count": 4,
   "metadata": {},
   "outputs": [
    {
     "data": {
      "text/markdown": [
       "1. Go to IAM console to edit current SageMaker role: [AmazonSageMaker-ExecutionRole-20191119T175598](https://console.aws.amazon.com/iam/home#/roles/AmazonSageMaker-ExecutionRole-20191119T175598).\n",
       "2. Next, go to the `Permissions tab` and click on `Attach Policy.` \n",
       "3. Search and select `AmazonKinesisVideoStreamsFullAccess` policy\n"
      ],
      "text/plain": [
       "<IPython.core.display.Markdown object>"
      ]
     },
     "metadata": {},
     "output_type": "display_data"
    }
   ],
   "source": [
    "display(Markdown(generate_s3_write_permission_for_sagemaker_role(sagemaker_role)))"
   ]
  },
  {
   "cell_type": "markdown",
   "metadata": {},
   "source": [
    "### Permission setup for Sagemaker to create KinesisVideoStreams\n",
    "\n",
    "The sagemaker notebook has to create a kinesis video streamer. You can observer the car making epsiodes in the kinesis video streamer."
   ]
  },
  {
   "cell_type": "code",
   "execution_count": 37,
   "metadata": {},
   "outputs": [
    {
     "data": {
      "text/markdown": [
       "1. Go to IAM console to edit current SageMaker role: [AmazonSageMaker-ExecutionRole-20191119T175598](https://console.aws.amazon.com/iam/home#/roles/AmazonSageMaker-ExecutionRole-20191119T175598).\n",
       "2. Next, go to the `Permissions tab` and click on `Attach Policy.` \n",
       "3. Search and select `AmazonS3FullAccess` policy\n"
      ],
      "text/plain": [
       "<IPython.core.display.Markdown object>"
      ]
     },
     "metadata": {},
     "output_type": "display_data"
    }
   ],
   "source": [
    "display(Markdown(generate_kinesis_create_permission_for_sagemaker_role(sagemaker_role)))"
   ]
  },
  {
   "cell_type": "markdown",
   "metadata": {},
   "source": [
    "### Build and push docker image\n",
    "\n",
    "The file ./Dockerfile contains all the packages that are installed into the docker. Instead of using the default sagemaker container. We will be using this docker container."
   ]
  },
  {
   "cell_type": "code",
   "execution_count": 11,
   "metadata": {
    "scrolled": true
   },
   "outputs": [
    {
     "name": "stdout",
     "output_type": "stream",
     "text": [
      "Copying files from your notebook to existing sagemaker container\n",
      "docker images sagemaker-docker-cpu | sed -n 2,2p\n",
      "Sagemaker docker id : fa42164427c7\n",
      "docker run -d -t fa42164427c7\n",
      "docker exec -d e50bb3d7a9511392360e9a2b74094f5c0fe3ae36a206033614bcbc320e1029a6 rm -rf /opt/amazon/markov\n",
      "docker cp ./src/markov e50bb3d7a9511392360e9a2b74094f5c0fe3ae36a206033614bcbc320e1029a6:/opt/amazon/markov\n",
      "============ Copied Markov scripts to sagemaker docker ============ \n",
      " \n",
      "docker ps -l|sed -n 2,2p\n",
      "docker commit e50bb3d7a951 sagemaker-docker-cpu\n",
      "============ Commited all the changes to docker ============ \n",
      " \n",
      "CPU times: user 28.1 ms, sys: 49.3 ms, total: 77.4 ms\n",
      "Wall time: 1.17 s\n"
     ]
    }
   ],
   "source": [
    "%%time\n",
    "from copy_to_sagemaker_container import get_sagemaker_docker, copy_to_sagemaker_container, get_custom_image_name\n",
    "cpu_or_gpu = 'gpu' if instance_type.startswith('ml.p') else 'cpu'\n",
    "repository_short_name = \"sagemaker-docker-%s\" % cpu_or_gpu\n",
    "custom_image_name = get_custom_image_name(repository_short_name)\n",
    "try:\n",
    "    print(\"Copying files from your notebook to existing sagemaker container\")\n",
    "    sagemaker_docker_id = get_sagemaker_docker(repository_short_name)\n",
    "    copy_to_sagemaker_container(sagemaker_docker_id, repository_short_name)\n",
    "except Exception as e:\n",
    "    print(\"Creating sagemaker container\")\n",
    "    docker_build_args = {\n",
    "        'CPU_OR_GPU': cpu_or_gpu, \n",
    "        'AWS_REGION': boto3.Session().region_name,\n",
    "    }\n",
    "    custom_image_name = build_and_push_docker_image(repository_short_name, build_args=docker_build_args)\n",
    "    print(\"Using ECR image %s\" % custom_image_name)"
   ]
  },
  {
   "cell_type": "markdown",
   "metadata": {},
   "source": [
    "### Clean the docker images\n",
    "Remove this only when you want to completely remove the docker or clean up the space of the sagemaker instance"
   ]
  },
  {
   "cell_type": "code",
   "execution_count": 7,
   "metadata": {},
   "outputs": [
    {
     "name": "stdout",
     "output_type": "stream",
     "text": [
      "\"docker rm\" requires at least 1 argument.\n",
      "See 'docker rm --help'.\n",
      "\n",
      "Usage:  docker rm [OPTIONS] CONTAINER [CONTAINER...]\n",
      "\n",
      "Remove one or more containers\n",
      "Untagged: 170991494985.dkr.ecr.us-east-1.amazonaws.com/sagemaker-docker-cpu:latest\n",
      "Untagged: 170991494985.dkr.ecr.us-east-1.amazonaws.com/sagemaker-docker-cpu@sha256:6dc209faff2ac4a5d933ad3c57f1dfa73f099c1c2dc254c0500e0f7d9f987c06\n",
      "Untagged: sagemaker-docker-cpu:latest\n",
      "Deleted: sha256:6fb6074ba3cc49ebc101bf167c103a0bc9d99c41b4921d41341de03aa7e0e65a\n",
      "Deleted: sha256:8987711e58e8543444260d55046811d65ed90c6180b277c8a93101da7d315d6d\n",
      "Deleted: sha256:d13287c71d0946c8ba85fd1fa712865f8bc40785ef7cb07a6f6d9266050a1c10\n",
      "Deleted: sha256:e8dd2e0bf91e9413004b79f87eca6be1646e60064b2715a0fdedc146e426f111\n",
      "Deleted: sha256:8539052a54e89584c0e28a90cb03dc8cb5444d3cb5cb01fa33661ff83e0f3a17\n",
      "Deleted: sha256:b7346c422b7f3b628c4409811df6d12abefd2ab04be2b5dcac81c7eed3f9a69b\n",
      "Deleted: sha256:e720acf35a081e89c40dcc4255602a33a44fdcc0c67e47d7ddf6ad8934b29844\n",
      "Deleted: sha256:e9808cd46896c63255da910718ecdde2f9719ebefc3a2f40b01ffe4e982ee98b\n",
      "Deleted: sha256:c7aa2bd815ae1dcfa2b6f4245730e21eb7c8dfb9076934ca24230367432844d5\n",
      "Deleted: sha256:90bdc78909dd01c1a9ed5ec4cea92aa71f769abaa65c81c3416e34e3d97f06cf\n",
      "Deleted: sha256:4c22675d1266c03f8fa13c15219e3bd3a8d1ad451d9c10e06d09f0659d612946\n",
      "Deleted: sha256:45105dc6831888286b9c7643c3f05a4ac32c9732cd365b1f143bbb920fd4061c\n",
      "Deleted: sha256:e8924420f6db1afbdfa7efd1474ce55db7230cf8619936e4255e5fe468eac712\n",
      "Deleted: sha256:522575ed07d0673caf146eb4d989db4e0e25d3289dfb5a0a3e0fca406d9e3039\n",
      "Deleted: sha256:a35907db20f1059b9f4671daeaddca9f623c35cbe559189524612baf65fcca8f\n",
      "Deleted: sha256:4b78249e26ab2b7f78dfaaff8fa9d5089e7b92d77d338007424f342bcd066a8f\n",
      "Deleted: sha256:7e116b64e033bcef6ddb6c102c7386578c0e68bb15523410952f1ba31e1a74b9\n",
      "Deleted: sha256:d02f1b7d094245f977b9441abfdab5a5302ddbd3bc8a7ad092d9dc5cd47a5152\n",
      "Deleted: sha256:6f1c99445556e0e64b97a010a8bfdf8908eaba54827f0cd860d3b0ec497b1694\n",
      "Deleted: sha256:372f3b9da4404d63563f05ac8d1b697660d895d0df195fe78c11fd174f51b10d\n",
      "Untagged: 520713654638.dkr.ecr.us-east-1.amazonaws.com/sagemaker-tensorflow-scriptmode:1.12.0-cpu-py3\n",
      "Untagged: 520713654638.dkr.ecr.us-east-1.amazonaws.com/sagemaker-tensorflow-scriptmode@sha256:1036b5e92698629ea1dcf1d2adc6c186b404d38ef93e2c31cb4dd47787a3629b\n",
      "Deleted: sha256:ba542f0b97063f80fd7e35b775d04f634bd79962c0d06a8c60183b92baedf886\n",
      "Deleted: sha256:2b24f4e376180946be4c530a2acc6fd9f9b188fec27f94a97e332b16566a1419\n",
      "Deleted: sha256:07a2d4304c78f9b26679c9bb18c607f37ddaf6df30324cb1c7c8888187d317fa\n",
      "Deleted: sha256:f3d9ce3ad7f16a7e0c579bf42f200f20e785d9f6ded104943309ba7c0db85b89\n",
      "Deleted: sha256:27c66f0b4af5e1b8600bc5bc550b9c28567106bb4dae8e635545d26115704ff2\n",
      "Deleted: sha256:65dd5def7d8ff05d70228000a089369084ba9106199a295d3820590f01558d24\n",
      "Deleted: sha256:0d24e0ae31cffd35a8474847e9153c1ceda8bf8b389ce8ec2c169d89233c70b0\n",
      "Deleted: sha256:2417682143411ecc680094e23937fcee3fe0f38c59fd6aa9ba0f3cf9ccc53b85\n",
      "Deleted: sha256:bd846179eaae4c439ce6783c44a42df534cbfce22d94f41354f590886c83063b\n",
      "Deleted: sha256:ea114092fb054a3eb7c676d2443390a220ffc56f00bc0bf91bc7d11a630cf099\n",
      "Deleted: sha256:dd6e7728e17a04ba313b66be50437bb02c56aa3f91944d4187ad19d6af015e07\n",
      "Deleted: sha256:51cacd617c80f4432c72c3f402a1d691e66a38874e466b5a03aad59a753a141d\n",
      "Deleted: sha256:5bcad8f8b858991e09c1ea59d2b1d8a1fcb424445493825972918b48c5170289\n",
      "Deleted: sha256:9adaba72eca85f66961ee4fb5c0b646b078377439690fa94827bf35a5f0cfd5e\n",
      "Deleted: sha256:ccab9ec9909359830f26cd442a80b08ab27a8fd34881495da7a17ac224ceebf1\n",
      "Deleted: sha256:739482a9723dbee6dbdad6b669090e96d5f57e2aa27c131015cce8969d0d4efa\n",
      "Error: No such image: 6fb6074ba3cc\n"
     ]
    }
   ],
   "source": [
    "!docker rm -f $(docker ps -a -q);\n",
    "!docker rmi -f $(docker images -q);"
   ]
  },
  {
   "cell_type": "markdown",
   "metadata": {},
   "source": [
    "### Configure VPC\n",
    "\n",
    "Since SageMaker and RoboMaker have to communicate with each other over the network, both of these services need to run in VPC mode. This can be done by supplying subnets and security groups to the job launching scripts.  \n",
    "We will check if the deepracer-vpc stack is created and use it if present (This is present if the AWS Deepracer console is used atleast once to create a model). Else we will use the default VPC stack."
   ]
  },
  {
   "cell_type": "code",
   "execution_count": 12,
   "metadata": {},
   "outputs": [
    {
     "name": "stdout",
     "output_type": "stream",
     "text": [
      "Using the DeepRacer VPC stacks. This will be created if you run one training job from console.\n",
      "Using VPC: vpc-03f34e1d52556c4a0\n",
      "Using security group: ['sg-0b5a135c6d9dd4fe5']\n",
      "Using subnets: ['subnet-0c235b185de857b58', 'subnet-0bf0a2d87e239724f', 'subnet-098b2d42e516ddfa8', 'subnet-0eea622dd1a4d097c', 'subnet-0a0334c7a770c1b92', 'subnet-03e4c144f51d5211d']\n"
     ]
    }
   ],
   "source": [
    "ec2 = boto3.client('ec2')\n",
    "\n",
    "#\n",
    "# Check if the user has Deepracer-VPC and use that if its present. This will have all permission.\n",
    "# This VPC will be created when you have used the Deepracer console and created one model atleast\n",
    "# If this is not present. Use the default VPC connnection\n",
    "#\n",
    "deepracer_security_groups = [group[\"GroupId\"] for group in ec2.describe_security_groups()['SecurityGroups']\\\n",
    "                             if group['GroupName'].startswith(\"aws-deepracer-\")]\n",
    "\n",
    "# deepracer_security_groups = False\n",
    "if(deepracer_security_groups):\n",
    "    print(\"Using the DeepRacer VPC stacks. This will be created if you run one training job from console.\")\n",
    "    deepracer_vpc = [vpc['VpcId'] for vpc in ec2.describe_vpcs()['Vpcs'] \\\n",
    "                     if \"Tags\" in vpc for val in vpc['Tags'] \\\n",
    "                     if val['Value'] == 'deepracer-vpc'][0]\n",
    "    deepracer_subnets = [subnet[\"SubnetId\"] for subnet in ec2.describe_subnets()[\"Subnets\"] \\\n",
    "                         if subnet[\"VpcId\"] == deepracer_vpc]\n",
    "else:\n",
    "    print(\"Using the default VPC stacks\")\n",
    "    deepracer_vpc = [vpc['VpcId'] for vpc in ec2.describe_vpcs()['Vpcs'] if vpc[\"IsDefault\"] == True][0]\n",
    "\n",
    "    deepracer_security_groups = [group[\"GroupId\"] for group in ec2.describe_security_groups()['SecurityGroups'] \\\n",
    "                                 if 'VpcId' in group and group[\"GroupName\"] == \"default\" and group[\"VpcId\"] == deepracer_vpc]\n",
    "\n",
    "    deepracer_subnets = [subnet[\"SubnetId\"] for subnet in ec2.describe_subnets()[\"Subnets\"] \\\n",
    "                         if subnet[\"VpcId\"] == deepracer_vpc and subnet['DefaultForAz']==True]\n",
    "\n",
    "print(\"Using VPC:\", deepracer_vpc)\n",
    "print(\"Using security group:\", deepracer_security_groups)\n",
    "print(\"Using subnets:\", deepracer_subnets)"
   ]
  },
  {
   "cell_type": "markdown",
   "metadata": {},
   "source": [
    "### Create Route Table\n",
    "A SageMaker job running in VPC mode cannot access S3 resourcs. So, we need to create a VPC S3 endpoint to allow S3 access from SageMaker container. To learn more about the VPC mode, please visit [this link.](https://docs.aws.amazon.com/sagemaker/latest/dg/train-vpc.html)"
   ]
  },
  {
   "cell_type": "code",
   "execution_count": 13,
   "metadata": {},
   "outputs": [
    {
     "name": "stdout",
     "output_type": "stream",
     "text": [
      "Creating \n",
      "Trying to attach S3 endpoints to the following route tables: ['rtb-0529a9c0f38db716c', 'rtb-0968d4b5d747e3261']\n",
      "S3 endpoint already exists.\n"
     ]
    }
   ],
   "source": [
    "#TODO: Explain to customer what CREATE_ROUTE_TABLE is doing\n",
    "CREATE_ROUTE_TABLE = True\n",
    "\n",
    "def create_vpc_endpoint_table():\n",
    "    print(\"Creating \")\n",
    "    try:\n",
    "        route_tables = [route_table[\"RouteTableId\"] for route_table in ec2.describe_route_tables()['RouteTables']\\\n",
    "                        if route_table['VpcId'] == deepracer_vpc]\n",
    "    except Exception as e:\n",
    "        if \"UnauthorizedOperation\" in str(e):\n",
    "            display(Markdown(generate_help_for_s3_endpoint_permissions(sagemaker_role)))\n",
    "        else:\n",
    "            display(Markdown(create_s3_endpoint_manually(aws_region, deepracer_vpc)))\n",
    "        raise e\n",
    "\n",
    "    print(\"Trying to attach S3 endpoints to the following route tables:\", route_tables)\n",
    "    \n",
    "    if not route_tables:\n",
    "        raise Exception((\"No route tables were found. Please follow the VPC S3 endpoint creation \"\n",
    "                         \"guide by clicking the above link.\"))\n",
    "    try:\n",
    "        ec2.create_vpc_endpoint(DryRun=False,\n",
    "                                VpcEndpointType=\"Gateway\",\n",
    "                                VpcId=deepracer_vpc,\n",
    "                                ServiceName=\"com.amazonaws.{}.s3\".format(aws_region),\n",
    "                                RouteTableIds=route_tables)\n",
    "        print(\"S3 endpoint created successfully!\")\n",
    "    except Exception as e:\n",
    "        if \"RouteAlreadyExists\" in str(e):\n",
    "            print(\"S3 endpoint already exists.\")\n",
    "        elif \"UnauthorizedOperation\" in str(e):\n",
    "            display(Markdown(generate_help_for_s3_endpoint_permissions(role)))\n",
    "            raise e\n",
    "        else:\n",
    "            display(Markdown(create_s3_endpoint_manually(aws_region, deepracer_vpc)))\n",
    "            raise e\n",
    "\n",
    "if CREATE_ROUTE_TABLE:\n",
    "    create_vpc_endpoint_table()"
   ]
  },
  {
   "cell_type": "markdown",
   "metadata": {},
   "source": [
    "## Setup the environment\n",
    "\n",
    "The environment is defined in a Python file called “deepracer_racetrack_env.py” and the file can be found at `src/markov/environments/`. This file implements the gym interface for our Gazebo based RoboMakersimulator. This is a common environment file used by both SageMaker and RoboMaker. The environment variable - `NODE_TYPE` defines which node the code is running on. So, the expressions that have `rospy` dependencies are executed on RoboMaker only.  \n",
    "\n",
    "We can experiment with different reward functions by modifying `reward_function` in `src/markov/rewards/`. Action space and steering angles can be changed by modifying `src/markov/actions/`.json file\n",
    "\n",
    "### Configure the preset for RL algorithm\n",
    "\n",
    "The parameters that configure the RL training job are defined in `src/markov/presets/`. Using the preset file, you can define agent parameters to select the specific agent algorithm. We suggest using Clipped PPO for this example.  \n",
    "You can edit this file to modify algorithm parameters like learning_rate, neural network structure, batch_size, discount factor etc."
   ]
  },
  {
   "cell_type": "code",
   "execution_count": 40,
   "metadata": {},
   "outputs": [
    {
     "name": "stdout",
     "output_type": "stream",
     "text": [
      "\u001b[37m# -*- coding: utf-8 -*-\u001b[39;49;00m\r\n",
      "\r\n",
      "\u001b[34mimport\u001b[39;49;00m \u001b[04m\u001b[36mmath\u001b[39;49;00m\r\n",
      "\u001b[34mimport\u001b[39;49;00m \u001b[04m\u001b[36mtraceback\u001b[39;49;00m\r\n",
      "\r\n",
      "\r\n",
      "\u001b[34mclass\u001b[39;49;00m \u001b[04m\u001b[32mRewardEvaluator\u001b[39;49;00m:\r\n",
      "\r\n",
      "    \u001b[37m# CALCULATION CONSTANTS - change for the performance fine tuning\u001b[39;49;00m\r\n",
      "\r\n",
      "    \u001b[37m# Define minimum and maximum expected speed interval for the training. Both values should be corresponding to\u001b[39;49;00m\r\n",
      "    \u001b[37m# parameters you are going to use for the Action space. Set MAX_SPEED equal to maximum speed defined there,\u001b[39;49;00m\r\n",
      "    \u001b[37m# MIN_SPEED should be lower (just a bit) then expected minimum defined speed (e.g. Max speed set to 5 m/s,\u001b[39;49;00m\r\n",
      "    \u001b[37m# speed granularity 3 => therefore, MIN_SPEED should be less than 1.66 m/s.\u001b[39;49;00m\r\n",
      "    MAX_SPEED = \u001b[36mfloat\u001b[39;49;00m(\u001b[34m5.0\u001b[39;49;00m)\r\n",
      "    MIN_SPEED = \u001b[36mfloat\u001b[39;49;00m(\u001b[34m1.5\u001b[39;49;00m)\r\n",
      "\r\n",
      "    \u001b[37m# Define maximum steering angle according to the Action space settings. Smooth steering angle threshold is used to\u001b[39;49;00m\r\n",
      "    \u001b[37m# set a steering angle still considered as \"smooth\". The value must be higher than minimum steering angle determined\u001b[39;49;00m\r\n",
      "    \u001b[37m# by the steering Action space. E.g Max steering 30 degrees, granularity 3 => SMOOTH_STEERING_ANGLE_TRESHOLD should\u001b[39;49;00m\r\n",
      "    \u001b[37m# be higher than 10 degrees.\u001b[39;49;00m\r\n",
      "    MAX_STEERING_ANGLE = \u001b[34m30\u001b[39;49;00m\r\n",
      "    SMOOTH_STEERING_ANGLE_TRESHOLD = \u001b[34m15\u001b[39;49;00m  \u001b[37m# Greater than minimum angle defined in action space\u001b[39;49;00m\r\n",
      "\r\n",
      "    \u001b[37m# Constant value used to \"ignore\" turns in the corresponding distance (in meters). The car is supposed to drive\u001b[39;49;00m\r\n",
      "    \u001b[37m# at MAX_SPEED (getting a higher reward). In case within the distance is a turn, the car is rewarded when slowing\u001b[39;49;00m\r\n",
      "    \u001b[37m# down.\u001b[39;49;00m\r\n",
      "    SAFE_HORIZON_DISTANCE = \u001b[34m0.8\u001b[39;49;00m  \u001b[37m# meters, able to fully stop. See ANGLE_IS_CURVE.\u001b[39;49;00m\r\n",
      "\r\n",
      "    \u001b[37m# Constant to define accepted distance of the car from the center line.\u001b[39;49;00m\r\n",
      "    CENTERLINE_FOLLOW_RATIO_TRESHOLD = \u001b[34m0.12\u001b[39;49;00m\r\n",
      "\r\n",
      "    \u001b[37m# Constant to define a threshold (in degrees), representing max. angle within SAFE_HORIZON_DISTANCE. If the car is\u001b[39;49;00m\r\n",
      "    \u001b[37m# supposed to start steering and the angle of the farthest waypoint is above the threshold, the car is supposed to\u001b[39;49;00m\r\n",
      "    \u001b[37m# slow down\u001b[39;49;00m\r\n",
      "    ANGLE_IS_CURVE = \u001b[34m3\u001b[39;49;00m\r\n",
      "\r\n",
      "    \u001b[37m# A range the reward value must fit in.\u001b[39;49;00m\r\n",
      "    PENALTY_MAX = \u001b[34m0.001\u001b[39;49;00m\r\n",
      "    REWARD_MAX = \u001b[34m89999\u001b[39;49;00m  \u001b[37m# 100000\u001b[39;49;00m\r\n",
      "\r\n",
      "    \u001b[37m# params is a set of input values provided by the DeepRacer environment. For each calculation\u001b[39;49;00m\r\n",
      "    \u001b[37m# this is provided\u001b[39;49;00m\r\n",
      "    params = \u001b[36mNone\u001b[39;49;00m\r\n",
      "\r\n",
      "    \u001b[37m# Class properties - status values extracted from \"params\" input\u001b[39;49;00m\r\n",
      "    all_wheels_on_track = \u001b[36mNone\u001b[39;49;00m\r\n",
      "    x = \u001b[36mNone\u001b[39;49;00m\r\n",
      "    y = \u001b[36mNone\u001b[39;49;00m\r\n",
      "    distance_from_center = \u001b[36mNone\u001b[39;49;00m\r\n",
      "    is_left_of_center = \u001b[36mNone\u001b[39;49;00m\r\n",
      "    is_reversed = \u001b[36mNone\u001b[39;49;00m\r\n",
      "    heading = \u001b[36mNone\u001b[39;49;00m\r\n",
      "    progress = \u001b[36mNone\u001b[39;49;00m\r\n",
      "    steps = \u001b[36mNone\u001b[39;49;00m\r\n",
      "    speed = \u001b[36mNone\u001b[39;49;00m\r\n",
      "    steering_angle = \u001b[36mNone\u001b[39;49;00m\r\n",
      "    track_width = \u001b[36mNone\u001b[39;49;00m\r\n",
      "    waypoints = \u001b[36mNone\u001b[39;49;00m\r\n",
      "    closest_waypoints = \u001b[36mNone\u001b[39;49;00m\r\n",
      "    nearest_previous_waypoint_ind = \u001b[36mNone\u001b[39;49;00m\r\n",
      "    nearest_next_waypoint_ind = \u001b[36mNone\u001b[39;49;00m\r\n",
      "\r\n",
      "    log_message = \u001b[33m\"\u001b[39;49;00m\u001b[33m\"\u001b[39;49;00m\r\n",
      "\r\n",
      "    \u001b[37m# method used to extract class properties (status values) from input \"params\"\u001b[39;49;00m\r\n",
      "    \u001b[34mdef\u001b[39;49;00m \u001b[32minit_self\u001b[39;49;00m(\u001b[36mself\u001b[39;49;00m, params):\r\n",
      "        \u001b[36mself\u001b[39;49;00m.all_wheels_on_track = params[\u001b[33m'\u001b[39;49;00m\u001b[33mall_wheels_on_track\u001b[39;49;00m\u001b[33m'\u001b[39;49;00m]\r\n",
      "        \u001b[36mself\u001b[39;49;00m.x = params[\u001b[33m'\u001b[39;49;00m\u001b[33mx\u001b[39;49;00m\u001b[33m'\u001b[39;49;00m]\r\n",
      "        \u001b[36mself\u001b[39;49;00m.y = params[\u001b[33m'\u001b[39;49;00m\u001b[33my\u001b[39;49;00m\u001b[33m'\u001b[39;49;00m]\r\n",
      "        \u001b[36mself\u001b[39;49;00m.distance_from_center = params[\u001b[33m'\u001b[39;49;00m\u001b[33mdistance_from_center\u001b[39;49;00m\u001b[33m'\u001b[39;49;00m]\r\n",
      "        \u001b[36mself\u001b[39;49;00m.is_left_of_center = params[\u001b[33m'\u001b[39;49;00m\u001b[33mis_left_of_center\u001b[39;49;00m\u001b[33m'\u001b[39;49;00m]\r\n",
      "        \u001b[36mself\u001b[39;49;00m.is_reversed = params[\u001b[33m'\u001b[39;49;00m\u001b[33mis_reversed\u001b[39;49;00m\u001b[33m'\u001b[39;49;00m]\r\n",
      "        \u001b[36mself\u001b[39;49;00m.heading = params[\u001b[33m'\u001b[39;49;00m\u001b[33mheading\u001b[39;49;00m\u001b[33m'\u001b[39;49;00m]\r\n",
      "        \u001b[36mself\u001b[39;49;00m.progress = params[\u001b[33m'\u001b[39;49;00m\u001b[33mprogress\u001b[39;49;00m\u001b[33m'\u001b[39;49;00m]\r\n",
      "        \u001b[36mself\u001b[39;49;00m.steps = params[\u001b[33m'\u001b[39;49;00m\u001b[33msteps\u001b[39;49;00m\u001b[33m'\u001b[39;49;00m]\r\n",
      "        \u001b[36mself\u001b[39;49;00m.speed = params[\u001b[33m'\u001b[39;49;00m\u001b[33mspeed\u001b[39;49;00m\u001b[33m'\u001b[39;49;00m]\r\n",
      "        \u001b[36mself\u001b[39;49;00m.steering_angle = params[\u001b[33m'\u001b[39;49;00m\u001b[33msteering_angle\u001b[39;49;00m\u001b[33m'\u001b[39;49;00m]\r\n",
      "        \u001b[36mself\u001b[39;49;00m.track_width = params[\u001b[33m'\u001b[39;49;00m\u001b[33mtrack_width\u001b[39;49;00m\u001b[33m'\u001b[39;49;00m]\r\n",
      "        \u001b[36mself\u001b[39;49;00m.waypoints = params[\u001b[33m'\u001b[39;49;00m\u001b[33mwaypoints\u001b[39;49;00m\u001b[33m'\u001b[39;49;00m]\r\n",
      "        \u001b[36mself\u001b[39;49;00m.closest_waypoints = params[\u001b[33m'\u001b[39;49;00m\u001b[33mclosest_waypoints\u001b[39;49;00m\u001b[33m'\u001b[39;49;00m]\r\n",
      "        \u001b[36mself\u001b[39;49;00m.nearest_previous_waypoint_ind = params[\u001b[33m'\u001b[39;49;00m\u001b[33mclosest_waypoints\u001b[39;49;00m\u001b[33m'\u001b[39;49;00m][\u001b[34m0\u001b[39;49;00m]\r\n",
      "        \u001b[36mself\u001b[39;49;00m.nearest_next_waypoint_ind = params[\u001b[33m'\u001b[39;49;00m\u001b[33mclosest_waypoints\u001b[39;49;00m\u001b[33m'\u001b[39;49;00m][\u001b[34m1\u001b[39;49;00m]\r\n",
      "\r\n",
      "    \u001b[37m# RewardEvaluator Class constructor\u001b[39;49;00m\r\n",
      "    \u001b[34mdef\u001b[39;49;00m \u001b[32m__init__\u001b[39;49;00m(\u001b[36mself\u001b[39;49;00m, params):\r\n",
      "        \u001b[36mself\u001b[39;49;00m.params = params\r\n",
      "        \u001b[36mself\u001b[39;49;00m.init_self(params)\r\n",
      "\r\n",
      "    \u001b[37m# Method used to \"print\" status values and logged messages into AWS log. Be aware of additional cost Amazon will\u001b[39;49;00m\r\n",
      "    \u001b[37m# charge you when logging is used heavily!!!\u001b[39;49;00m\r\n",
      "    \u001b[34mdef\u001b[39;49;00m \u001b[32mstatus_to_string\u001b[39;49;00m(\u001b[36mself\u001b[39;49;00m):\r\n",
      "        status = \u001b[36mself\u001b[39;49;00m.params\r\n",
      "        \u001b[34mif\u001b[39;49;00m \u001b[33m'\u001b[39;49;00m\u001b[33mwaypoints\u001b[39;49;00m\u001b[33m'\u001b[39;49;00m \u001b[35min\u001b[39;49;00m status: \u001b[34mdel\u001b[39;49;00m status[\u001b[33m'\u001b[39;49;00m\u001b[33mwaypoints\u001b[39;49;00m\u001b[33m'\u001b[39;49;00m]\r\n",
      "        status[\u001b[33m'\u001b[39;49;00m\u001b[33mdebug_log\u001b[39;49;00m\u001b[33m'\u001b[39;49;00m] = \u001b[36mself\u001b[39;49;00m.log_message\r\n",
      "        \u001b[34mprint\u001b[39;49;00m(status)\r\n",
      "\r\n",
      "    \u001b[37m# Gets ind'th waypoint from the list of all waypoints retrieved in params['waypoints']. Waypoints are circuit track\u001b[39;49;00m\r\n",
      "    \u001b[37m# specific (every time params is provided it is same list for particular circuit). If index is out of range (greater\u001b[39;49;00m\r\n",
      "    \u001b[37m# than len(params['waypoints']) a waypoint from the beginning of the list ir returned.\u001b[39;49;00m\r\n",
      "    \u001b[34mdef\u001b[39;49;00m \u001b[32mget_way_point\u001b[39;49;00m(\u001b[36mself\u001b[39;49;00m, index_way_point):\r\n",
      "        \u001b[34mif\u001b[39;49;00m index_way_point > (\u001b[36mlen\u001b[39;49;00m(\u001b[36mself\u001b[39;49;00m.waypoints) - \u001b[34m1\u001b[39;49;00m):\r\n",
      "            \u001b[34mreturn\u001b[39;49;00m \u001b[36mself\u001b[39;49;00m.waypoints[index_way_point - (\u001b[36mlen\u001b[39;49;00m(\u001b[36mself\u001b[39;49;00m.waypoints))]\r\n",
      "        \u001b[34melif\u001b[39;49;00m index_way_point < \u001b[34m0\u001b[39;49;00m:\r\n",
      "            \u001b[34mreturn\u001b[39;49;00m \u001b[36mself\u001b[39;49;00m.waypoints[\u001b[36mlen\u001b[39;49;00m(\u001b[36mself\u001b[39;49;00m.waypoints) + index_way_point]\r\n",
      "        \u001b[34melse\u001b[39;49;00m:\r\n",
      "            \u001b[34mreturn\u001b[39;49;00m \u001b[36mself\u001b[39;49;00m.waypoints[index_way_point]\r\n",
      "\r\n",
      "    \u001b[37m# Calculates distance [m] between two waypoints [x1,y1] and [x2,y2]\u001b[39;49;00m\r\n",
      "    \u001b[30;01m@staticmethod\u001b[39;49;00m\r\n",
      "    \u001b[34mdef\u001b[39;49;00m \u001b[32mget_way_points_distance\u001b[39;49;00m(previous_waypoint, next_waypoint):\r\n",
      "        \u001b[34mreturn\u001b[39;49;00m math.sqrt(\u001b[36mpow\u001b[39;49;00m(next_waypoint[\u001b[34m1\u001b[39;49;00m] - previous_waypoint[\u001b[34m1\u001b[39;49;00m], \u001b[34m2\u001b[39;49;00m) + \u001b[36mpow\u001b[39;49;00m(next_waypoint[\u001b[34m0\u001b[39;49;00m] - previous_waypoint[\u001b[34m0\u001b[39;49;00m], \u001b[34m2\u001b[39;49;00m))\r\n",
      "\r\n",
      "    \u001b[37m# Calculates heading direction between two waypoints - angle in cartesian layout. Clockwise values\u001b[39;49;00m\r\n",
      "    \u001b[37m# 0 to -180 degrees, anti clockwise 0 to +180 degrees\u001b[39;49;00m\r\n",
      "    \u001b[30;01m@staticmethod\u001b[39;49;00m\r\n",
      "    \u001b[34mdef\u001b[39;49;00m \u001b[32mget_heading_between_waypoints\u001b[39;49;00m(previous_waypoint, next_waypoint):\r\n",
      "        track_direction = math.atan2(next_waypoint[\u001b[34m1\u001b[39;49;00m] - previous_waypoint[\u001b[34m1\u001b[39;49;00m], next_waypoint[\u001b[34m0\u001b[39;49;00m] - previous_waypoint[\u001b[34m0\u001b[39;49;00m])\r\n",
      "        \u001b[34mreturn\u001b[39;49;00m math.degrees(track_direction)\r\n",
      "\r\n",
      "    \u001b[37m# Calculates the misalignment of the heading of the car () compared to center line of the track (defined by previous and\u001b[39;49;00m\r\n",
      "    \u001b[37m# the next waypoint (the car is between them)\u001b[39;49;00m\r\n",
      "    \u001b[34mdef\u001b[39;49;00m \u001b[32mget_car_heading_error\u001b[39;49;00m(\u001b[36mself\u001b[39;49;00m):  \u001b[37m# track direction vs heading\u001b[39;49;00m\r\n",
      "        next_point = \u001b[36mself\u001b[39;49;00m.get_way_point(\u001b[36mself\u001b[39;49;00m.closest_waypoints[\u001b[34m1\u001b[39;49;00m])\r\n",
      "        prev_point = \u001b[36mself\u001b[39;49;00m.get_way_point(\u001b[36mself\u001b[39;49;00m.closest_waypoints[\u001b[34m0\u001b[39;49;00m])\r\n",
      "        track_direction = math.atan2(next_point[\u001b[34m1\u001b[39;49;00m] - prev_point[\u001b[34m1\u001b[39;49;00m], next_point[\u001b[34m0\u001b[39;49;00m] - prev_point[\u001b[34m0\u001b[39;49;00m])\r\n",
      "        track_direction = math.degrees(track_direction)\r\n",
      "        \u001b[34mreturn\u001b[39;49;00m track_direction - \u001b[36mself\u001b[39;49;00m.heading\r\n",
      "\r\n",
      "    \u001b[37m# Based on CarHeadingError (how much the car is misaligned with th direction of the track) and based on the \"safe\u001b[39;49;00m\r\n",
      "    \u001b[37m# horizon distance it is indicating the current speed (params['speed']) is/not optimal.\u001b[39;49;00m\r\n",
      "    \u001b[34mdef\u001b[39;49;00m \u001b[32mget_optimum_speed_ratio\u001b[39;49;00m(\u001b[36mself\u001b[39;49;00m):\r\n",
      "        \u001b[34mif\u001b[39;49;00m \u001b[36mabs\u001b[39;49;00m(\u001b[36mself\u001b[39;49;00m.get_car_heading_error()) >= \u001b[36mself\u001b[39;49;00m.MAX_STEERING_ANGLE:\r\n",
      "            \u001b[34mreturn\u001b[39;49;00m \u001b[36mfloat\u001b[39;49;00m(\u001b[34m0.34\u001b[39;49;00m)\r\n",
      "        \u001b[34mif\u001b[39;49;00m \u001b[36mabs\u001b[39;49;00m(\u001b[36mself\u001b[39;49;00m.get_car_heading_error()) >= (\u001b[36mself\u001b[39;49;00m.MAX_STEERING_ANGLE * \u001b[34m0.75\u001b[39;49;00m):\r\n",
      "            \u001b[34mreturn\u001b[39;49;00m \u001b[36mfloat\u001b[39;49;00m(\u001b[34m0.67\u001b[39;49;00m)\r\n",
      "        current_position_xy = (\u001b[36mself\u001b[39;49;00m.x, \u001b[36mself\u001b[39;49;00m.y)\r\n",
      "        current_wp_index = \u001b[36mself\u001b[39;49;00m.closest_waypoints[\u001b[34m1\u001b[39;49;00m]\r\n",
      "        length = \u001b[36mself\u001b[39;49;00m.get_way_points_distance((\u001b[36mself\u001b[39;49;00m.x, \u001b[36mself\u001b[39;49;00m.y), \u001b[36mself\u001b[39;49;00m.get_way_point(current_wp_index))\r\n",
      "        current_track_heading = \u001b[36mself\u001b[39;49;00m.get_heading_between_waypoints(\u001b[36mself\u001b[39;49;00m.get_way_point(current_wp_index),\r\n",
      "                                                                   \u001b[36mself\u001b[39;49;00m.get_way_point(current_wp_index + \u001b[34m1\u001b[39;49;00m))\r\n",
      "        \u001b[34mwhile\u001b[39;49;00m \u001b[36mTrue\u001b[39;49;00m:\r\n",
      "            from_point = \u001b[36mself\u001b[39;49;00m.get_way_point(current_wp_index)\r\n",
      "            to_point = \u001b[36mself\u001b[39;49;00m.get_way_point(current_wp_index + \u001b[34m1\u001b[39;49;00m)\r\n",
      "            length = length + \u001b[36mself\u001b[39;49;00m.get_way_points_distance(from_point, to_point)\r\n",
      "            \u001b[34mif\u001b[39;49;00m length >= \u001b[36mself\u001b[39;49;00m.SAFE_HORIZON_DISTANCE:\r\n",
      "                heading_to_horizont_point = \u001b[36mself\u001b[39;49;00m.get_heading_between_waypoints(\u001b[36mself\u001b[39;49;00m.get_way_point(\u001b[36mself\u001b[39;49;00m.closest_waypoints[\u001b[34m1\u001b[39;49;00m]), to_point)\r\n",
      "                \u001b[34mif\u001b[39;49;00m \u001b[36mabs\u001b[39;49;00m(current_track_heading - heading_to_horizont_point) > (\u001b[36mself\u001b[39;49;00m.MAX_STEERING_ANGLE * \u001b[34m0.5\u001b[39;49;00m):\r\n",
      "                    \u001b[34mreturn\u001b[39;49;00m \u001b[36mfloat\u001b[39;49;00m(\u001b[34m0.33\u001b[39;49;00m)\r\n"
     ]
    },
    {
     "name": "stdout",
     "output_type": "stream",
     "text": [
      "                \u001b[34melif\u001b[39;49;00m \u001b[36mabs\u001b[39;49;00m(current_track_heading - heading_to_horizont_point) > (\u001b[36mself\u001b[39;49;00m.MAX_STEERING_ANGLE * \u001b[34m0.25\u001b[39;49;00m):\r\n",
      "                    \u001b[34mreturn\u001b[39;49;00m \u001b[36mfloat\u001b[39;49;00m(\u001b[34m0.66\u001b[39;49;00m)\r\n",
      "                \u001b[34melse\u001b[39;49;00m:\r\n",
      "                    \u001b[34mreturn\u001b[39;49;00m \u001b[36mfloat\u001b[39;49;00m(\u001b[34m1.0\u001b[39;49;00m)\r\n",
      "            current_wp_index = current_wp_index + \u001b[34m1\u001b[39;49;00m\r\n",
      "\r\n",
      "    \u001b[37m# Calculates angle of the turn the car is right now (degrees). It is angle between previous and next segment of the\u001b[39;49;00m\r\n",
      "    \u001b[37m# track (previous_waypoint - closest_waypoint and closest_waypoint - next_waypoint)\u001b[39;49;00m\r\n",
      "    \u001b[34mdef\u001b[39;49;00m \u001b[32mget_turn_angle\u001b[39;49;00m(\u001b[36mself\u001b[39;49;00m):\r\n",
      "        current_waypoint = \u001b[36mself\u001b[39;49;00m.closest_waypoints[\u001b[34m0\u001b[39;49;00m]\r\n",
      "        angle_ahead = \u001b[36mself\u001b[39;49;00m.get_heading_between_waypoints(\u001b[36mself\u001b[39;49;00m.get_way_point(current_waypoint),\r\n",
      "                                                         \u001b[36mself\u001b[39;49;00m.get_way_point(current_waypoint + \u001b[34m1\u001b[39;49;00m))\r\n",
      "        angle_behind = \u001b[36mself\u001b[39;49;00m.get_heading_between_waypoints(\u001b[36mself\u001b[39;49;00m.get_way_point(current_waypoint - \u001b[34m1\u001b[39;49;00m),\r\n",
      "                                                          \u001b[36mself\u001b[39;49;00m.get_way_point(current_waypoint))\r\n",
      "        result = angle_ahead - angle_behind\r\n",
      "        \u001b[34mif\u001b[39;49;00m angle_ahead < -\u001b[34m90\u001b[39;49;00m \u001b[35mand\u001b[39;49;00m angle_behind > \u001b[34m90\u001b[39;49;00m:\r\n",
      "            \u001b[34mreturn\u001b[39;49;00m \u001b[34m360\u001b[39;49;00m + result\r\n",
      "        \u001b[34melif\u001b[39;49;00m result > \u001b[34m180\u001b[39;49;00m:\r\n",
      "            \u001b[34mreturn\u001b[39;49;00m -\u001b[34m180\u001b[39;49;00m + (result - \u001b[34m180\u001b[39;49;00m)\r\n",
      "        \u001b[34melif\u001b[39;49;00m result < -\u001b[34m180\u001b[39;49;00m:\r\n",
      "            \u001b[34mreturn\u001b[39;49;00m \u001b[34m180\u001b[39;49;00m - (result + \u001b[34m180\u001b[39;49;00m)\r\n",
      "        \u001b[34melse\u001b[39;49;00m:\r\n",
      "            \u001b[34mreturn\u001b[39;49;00m result\r\n",
      "\r\n",
      "    \u001b[37m# Indicates the car is in turn\u001b[39;49;00m\r\n",
      "    \u001b[34mdef\u001b[39;49;00m \u001b[32mis_in_turn\u001b[39;49;00m(\u001b[36mself\u001b[39;49;00m):\r\n",
      "        \u001b[34mif\u001b[39;49;00m \u001b[36mabs\u001b[39;49;00m(\u001b[36mself\u001b[39;49;00m.get_turn_angle()) >= \u001b[36mself\u001b[39;49;00m.ANGLE_IS_CURVE:\r\n",
      "            \u001b[34mreturn\u001b[39;49;00m \u001b[36mTrue\u001b[39;49;00m\r\n",
      "        \u001b[34melse\u001b[39;49;00m:\r\n",
      "            \u001b[34mreturn\u001b[39;49;00m \u001b[36mFalse\u001b[39;49;00m\r\n",
      "        \u001b[34mreturn\u001b[39;49;00m \u001b[36mFalse\u001b[39;49;00m\r\n",
      "\r\n",
      "    \u001b[37m# Indicates the car has reached final waypoint of the circuit track\u001b[39;49;00m\r\n",
      "    \u001b[34mdef\u001b[39;49;00m \u001b[32mreached_target\u001b[39;49;00m(\u001b[36mself\u001b[39;49;00m):\r\n",
      "        max_waypoint_index = \u001b[36mlen\u001b[39;49;00m(\u001b[36mself\u001b[39;49;00m.waypoints) - \u001b[34m1\u001b[39;49;00m\r\n",
      "        \u001b[34mif\u001b[39;49;00m \u001b[36mself\u001b[39;49;00m.closest_waypoints[\u001b[34m1\u001b[39;49;00m] == max_waypoint_index:\r\n",
      "            \u001b[34mreturn\u001b[39;49;00m \u001b[36mTrue\u001b[39;49;00m\r\n",
      "        \u001b[34melse\u001b[39;49;00m:\r\n",
      "            \u001b[34mreturn\u001b[39;49;00m \u001b[36mFalse\u001b[39;49;00m\r\n",
      "\r\n",
      "    \u001b[37m# Provides direction of the next turn in order to let you reward right position to the center line (before the left\u001b[39;49;00m\r\n",
      "    \u001b[37m# turn position of the car sligthly right can be rewarded (and vice versa) - see is_in_optimized_corridor()\u001b[39;49;00m\r\n",
      "    \u001b[34mdef\u001b[39;49;00m \u001b[32mget_expected_turn_direction\u001b[39;49;00m(\u001b[36mself\u001b[39;49;00m):\r\n",
      "        current_waypoint_index = \u001b[36mself\u001b[39;49;00m.closest_waypoints[\u001b[34m1\u001b[39;49;00m]\r\n",
      "        length = \u001b[36mself\u001b[39;49;00m.get_way_points_distance((\u001b[36mself\u001b[39;49;00m.x, \u001b[36mself\u001b[39;49;00m.y), \u001b[36mself\u001b[39;49;00m.get_way_point(current_waypoint_index))\r\n",
      "        \u001b[34mwhile\u001b[39;49;00m \u001b[36mTrue\u001b[39;49;00m:\r\n",
      "            from_point = \u001b[36mself\u001b[39;49;00m.get_way_point(current_waypoint_index)\r\n",
      "            to_point = \u001b[36mself\u001b[39;49;00m.get_way_point(current_waypoint_index + \u001b[34m1\u001b[39;49;00m)\r\n",
      "            length = length + \u001b[36mself\u001b[39;49;00m.get_way_points_distance(from_point, to_point)\r\n",
      "            \u001b[34mif\u001b[39;49;00m length >= \u001b[36mself\u001b[39;49;00m.SAFE_HORIZON_DISTANCE * \u001b[34m4.5\u001b[39;49;00m:\r\n",
      "                result = \u001b[36mself\u001b[39;49;00m.get_heading_between_waypoints(\u001b[36mself\u001b[39;49;00m.get_way_point(\u001b[36mself\u001b[39;49;00m.closest_waypoints[\u001b[34m1\u001b[39;49;00m]), to_point)\r\n",
      "                \u001b[34mif\u001b[39;49;00m result > \u001b[34m2\u001b[39;49;00m:\r\n",
      "                    \u001b[34mreturn\u001b[39;49;00m \u001b[33m\"\u001b[39;49;00m\u001b[33mLEFT\u001b[39;49;00m\u001b[33m\"\u001b[39;49;00m\r\n",
      "                \u001b[34melif\u001b[39;49;00m result < -\u001b[34m2\u001b[39;49;00m:\r\n",
      "                    \u001b[34mreturn\u001b[39;49;00m \u001b[33m\"\u001b[39;49;00m\u001b[33mRIGHT\u001b[39;49;00m\u001b[33m\"\u001b[39;49;00m\r\n",
      "                \u001b[34melse\u001b[39;49;00m:\r\n",
      "                    \u001b[34mreturn\u001b[39;49;00m \u001b[33m\"\u001b[39;49;00m\u001b[33mSTRAIGHT\u001b[39;49;00m\u001b[33m\"\u001b[39;49;00m\r\n",
      "            current_waypoint_index = current_waypoint_index + \u001b[34m1\u001b[39;49;00m\r\n",
      "\r\n",
      "    \u001b[37m# Based on the direction of the next turn it indicates the car is on the right side to the center line in order to\u001b[39;49;00m\r\n",
      "    \u001b[37m# drive through smoothly - see get_expected_turn_direction().\u001b[39;49;00m\r\n",
      "    \u001b[34mdef\u001b[39;49;00m \u001b[32mis_in_optimized_corridor\u001b[39;49;00m(\u001b[36mself\u001b[39;49;00m):\r\n",
      "        \u001b[34mif\u001b[39;49;00m \u001b[36mself\u001b[39;49;00m.is_in_turn():\r\n",
      "            turn_angle = \u001b[36mself\u001b[39;49;00m.get_turn_angle()\r\n",
      "            \u001b[34mif\u001b[39;49;00m turn_angle > \u001b[34m0\u001b[39;49;00m:  \u001b[37m# Turning LEFT - better be by left side\u001b[39;49;00m\r\n",
      "                \u001b[34mif\u001b[39;49;00m (\u001b[36mself\u001b[39;49;00m.is_left_of_center == \u001b[36mTrue\u001b[39;49;00m \u001b[35mand\u001b[39;49;00m \u001b[36mself\u001b[39;49;00m.distance_from_center <= (\r\n",
      "                        \u001b[36mself\u001b[39;49;00m.CENTERLINE_FOLLOW_RATIO_TRESHOLD * \u001b[34m2\u001b[39;49;00m * \u001b[36mself\u001b[39;49;00m.track_width) \u001b[35mor\u001b[39;49;00m\r\n",
      "                        \u001b[36mself\u001b[39;49;00m.is_left_of_center == \u001b[36mFalse\u001b[39;49;00m \u001b[35mand\u001b[39;49;00m \u001b[36mself\u001b[39;49;00m.distance_from_center <= (\r\n",
      "                                \u001b[36mself\u001b[39;49;00m.CENTERLINE_FOLLOW_RATIO_TRESHOLD / \u001b[34m2\u001b[39;49;00m * \u001b[36mself\u001b[39;49;00m.track_width)):\r\n",
      "                    \u001b[34mreturn\u001b[39;49;00m \u001b[36mTrue\u001b[39;49;00m\r\n",
      "                \u001b[34melse\u001b[39;49;00m:\r\n",
      "                    \u001b[34mreturn\u001b[39;49;00m \u001b[36mFalse\u001b[39;49;00m\r\n",
      "            \u001b[34melse\u001b[39;49;00m:  \u001b[37m# Turning RIGHT - better be by right side\u001b[39;49;00m\r\n",
      "                \u001b[34mif\u001b[39;49;00m \u001b[36mself\u001b[39;49;00m.is_left_of_center == \u001b[36mTrue\u001b[39;49;00m \u001b[35mand\u001b[39;49;00m \u001b[36mself\u001b[39;49;00m.distance_from_center <= (\u001b[36mself\u001b[39;49;00m.CENTERLINE_FOLLOW_RATIO_TRESHOLD / \u001b[34m2\u001b[39;49;00m * \u001b[36mself\u001b[39;49;00m.track_width) \u001b[35mor\u001b[39;49;00m \u001b[36mself\u001b[39;49;00m.is_left_of_center == \u001b[36mFalse\u001b[39;49;00m \u001b[35mand\u001b[39;49;00m \u001b[36mself\u001b[39;49;00m.distance_from_center <= (\u001b[36mself\u001b[39;49;00m.CENTERLINE_FOLLOW_RATIO_TRESHOLD * \u001b[34m2\u001b[39;49;00m * \u001b[36mself\u001b[39;49;00m.track_width):\r\n",
      "                    \u001b[34mreturn\u001b[39;49;00m \u001b[36mTrue\u001b[39;49;00m\r\n",
      "                \u001b[34melse\u001b[39;49;00m:\r\n",
      "                    \u001b[34mreturn\u001b[39;49;00m \u001b[36mFalse\u001b[39;49;00m\r\n",
      "        \u001b[34melse\u001b[39;49;00m:\r\n",
      "            next_turn = \u001b[36mself\u001b[39;49;00m.get_expected_turn_direction()\r\n",
      "            \u001b[34mif\u001b[39;49;00m next_turn == \u001b[33m\"\u001b[39;49;00m\u001b[33mLEFT\u001b[39;49;00m\u001b[33m\"\u001b[39;49;00m:  \u001b[37m# Be more righ side before turn\u001b[39;49;00m\r\n",
      "                \u001b[34mif\u001b[39;49;00m \u001b[36mself\u001b[39;49;00m.is_left_of_center == \u001b[36mTrue\u001b[39;49;00m \u001b[35mand\u001b[39;49;00m \u001b[36mself\u001b[39;49;00m.distance_from_center <= (\r\n",
      "                        \u001b[36mself\u001b[39;49;00m.CENTERLINE_FOLLOW_RATIO_TRESHOLD / \u001b[34m2\u001b[39;49;00m * \u001b[36mself\u001b[39;49;00m.track_width) \u001b[35mor\u001b[39;49;00m \u001b[36mself\u001b[39;49;00m.is_left_of_center == \u001b[36mFalse\u001b[39;49;00m \u001b[35mand\u001b[39;49;00m \u001b[36mself\u001b[39;49;00m.distance_from_center <= (\u001b[36mself\u001b[39;49;00m.CENTERLINE_FOLLOW_RATIO_TRESHOLD * \u001b[34m2\u001b[39;49;00m * \u001b[36mself\u001b[39;49;00m.track_width):\r\n",
      "                    \u001b[34mreturn\u001b[39;49;00m \u001b[36mTrue\u001b[39;49;00m\r\n",
      "                \u001b[34melse\u001b[39;49;00m:\r\n",
      "                    \u001b[34mreturn\u001b[39;49;00m \u001b[36mFalse\u001b[39;49;00m\r\n",
      "            \u001b[34melif\u001b[39;49;00m next_turn == \u001b[33m\"\u001b[39;49;00m\u001b[33mRIGHT\u001b[39;49;00m\u001b[33m\"\u001b[39;49;00m:  \u001b[37m# Be more left side before turn:\u001b[39;49;00m\r\n",
      "                \u001b[34mif\u001b[39;49;00m \u001b[36mself\u001b[39;49;00m.is_left_of_center == \u001b[36mTrue\u001b[39;49;00m \u001b[35mand\u001b[39;49;00m \u001b[36mself\u001b[39;49;00m.distance_from_center <= (\r\n",
      "                        \u001b[36mself\u001b[39;49;00m.CENTERLINE_FOLLOW_RATIO_TRESHOLD * \u001b[34m2\u001b[39;49;00m * \u001b[36mself\u001b[39;49;00m.track_width) \u001b[35mor\u001b[39;49;00m \u001b[36mself\u001b[39;49;00m.is_left_of_center == \u001b[36mFalse\u001b[39;49;00m \u001b[35mand\u001b[39;49;00m \u001b[36mself\u001b[39;49;00m.distance_from_center <= (\u001b[36mself\u001b[39;49;00m.CENTERLINE_FOLLOW_RATIO_TRESHOLD / \u001b[34m2\u001b[39;49;00m * \u001b[36mself\u001b[39;49;00m.track_width):\r\n",
      "                    \u001b[34mreturn\u001b[39;49;00m \u001b[36mTrue\u001b[39;49;00m\r\n",
      "                \u001b[34melse\u001b[39;49;00m:\r\n",
      "                    \u001b[34mreturn\u001b[39;49;00m \u001b[36mFalse\u001b[39;49;00m\r\n",
      "            \u001b[34melse\u001b[39;49;00m:  \u001b[37m# Be aligned with center line:\u001b[39;49;00m\r\n",
      "                \u001b[34mif\u001b[39;49;00m \u001b[36mself\u001b[39;49;00m.distance_from_center <= (\u001b[36mself\u001b[39;49;00m.CENTERLINE_FOLLOW_RATIO_TRESHOLD * \u001b[34m2\u001b[39;49;00m * \u001b[36mself\u001b[39;49;00m.track_width):\r\n",
      "                    \u001b[34mreturn\u001b[39;49;00m \u001b[36mTrue\u001b[39;49;00m\r\n",
      "                \u001b[34melse\u001b[39;49;00m:\r\n",
      "                    \u001b[34mreturn\u001b[39;49;00m \u001b[36mFalse\u001b[39;49;00m\r\n",
      "\r\n",
      "    \u001b[34mdef\u001b[39;49;00m \u001b[32mis_optimum_speed\u001b[39;49;00m(\u001b[36mself\u001b[39;49;00m):\r\n",
      "        \u001b[34mif\u001b[39;49;00m \u001b[36mabs\u001b[39;49;00m(\u001b[36mself\u001b[39;49;00m.speed - (\u001b[36mself\u001b[39;49;00m.get_optimum_speed_ratio() * \u001b[36mself\u001b[39;49;00m.MAX_SPEED)) < (\u001b[36mself\u001b[39;49;00m.MAX_SPEED * \u001b[34m0.15\u001b[39;49;00m) \u001b[35mand\u001b[39;49;00m \u001b[36mself\u001b[39;49;00m.MIN_SPEED <= \u001b[36mself\u001b[39;49;00m.speed <= \u001b[36mself\u001b[39;49;00m.MAX_SPEED:\r\n",
      "            \u001b[34mreturn\u001b[39;49;00m \u001b[36mTrue\u001b[39;49;00m\r\n",
      "        \u001b[34melse\u001b[39;49;00m:\r\n",
      "            \u001b[34mreturn\u001b[39;49;00m \u001b[36mFalse\u001b[39;49;00m\r\n",
      "\r\n",
      "    \u001b[37m# Accumulates all logging messages into one string which you may need to write to the log (uncomment line\u001b[39;49;00m\r\n",
      "    \u001b[37m# self.status_to_string() in evaluate() if you want to log status and calculation outputs.\u001b[39;49;00m\r\n",
      "    \u001b[34mdef\u001b[39;49;00m \u001b[32mlog_feature\u001b[39;49;00m(\u001b[36mself\u001b[39;49;00m, message):\r\n",
      "        \u001b[34mif\u001b[39;49;00m message \u001b[35mis\u001b[39;49;00m \u001b[36mNone\u001b[39;49;00m:\r\n",
      "            message = \u001b[33m'\u001b[39;49;00m\u001b[33mNULL\u001b[39;49;00m\u001b[33m'\u001b[39;49;00m\r\n",
      "        \u001b[36mself\u001b[39;49;00m.log_message = \u001b[36mself\u001b[39;49;00m.log_message + \u001b[36mstr\u001b[39;49;00m(message) + \u001b[33m'\u001b[39;49;00m\u001b[33m|\u001b[39;49;00m\u001b[33m'\u001b[39;49;00m\r\n",
      "\r\n",
      "    \u001b[37m# Here you can implement your logic to calculate reward value based on input parameters (params) and use\u001b[39;49;00m\r\n",
      "    \u001b[37m# implemented features (as methods above)\u001b[39;49;00m\r\n",
      "    \u001b[34mdef\u001b[39;49;00m \u001b[32mevaluate\u001b[39;49;00m(\u001b[36mself\u001b[39;49;00m):\r\n",
      "        \u001b[36mself\u001b[39;49;00m.init_self(\u001b[36mself\u001b[39;49;00m.params)\r\n",
      "        result_reward = \u001b[36mfloat\u001b[39;49;00m(\u001b[34m0.001\u001b[39;49;00m)\r\n",
      "        \u001b[34mtry\u001b[39;49;00m:\r\n",
      "            \u001b[37m# No reward => Fatal behaviour, NOREWARD!  (out of track, reversed, sleeping)\u001b[39;49;00m\r\n",
      "            \u001b[34mif\u001b[39;49;00m \u001b[36mself\u001b[39;49;00m.all_wheels_on_track == \u001b[36mFalse\u001b[39;49;00m \u001b[35mor\u001b[39;49;00m \u001b[36mself\u001b[39;49;00m.is_reversed == \u001b[36mTrue\u001b[39;49;00m \u001b[35mor\u001b[39;49;00m (\u001b[36mself\u001b[39;49;00m.speed < (\u001b[34m0.1\u001b[39;49;00m * \u001b[36mself\u001b[39;49;00m.MAX_SPEED)):\r\n",
      "                \u001b[36mself\u001b[39;49;00m.log_feature(\u001b[33m\"\u001b[39;49;00m\u001b[33mall_wheels_on_track or is_reversed issue\u001b[39;49;00m\u001b[33m\"\u001b[39;49;00m)\r\n",
      "                \u001b[36mself\u001b[39;49;00m.status_to_string()\r\n",
      "                \u001b[34mreturn\u001b[39;49;00m \u001b[36mfloat\u001b[39;49;00m(\u001b[36mself\u001b[39;49;00m.PENALTY_MAX)\r\n",
      "\r\n",
      "            \u001b[37m# REWARD 50 - EARLY Basic learning => easy factors accelerate learning\u001b[39;49;00m\r\n",
      "            \u001b[37m# Right heading, no crazy steering\u001b[39;49;00m\r\n",
      "            \u001b[34mif\u001b[39;49;00m \u001b[36mabs\u001b[39;49;00m(\u001b[36mself\u001b[39;49;00m.get_car_heading_error()) <= \u001b[36mself\u001b[39;49;00m.SMOOTH_STEERING_ANGLE_TRESHOLD:\r\n",
      "                \u001b[36mself\u001b[39;49;00m.log_feature(\u001b[33m\"\u001b[39;49;00m\u001b[33mgetCarHeadingOK\u001b[39;49;00m\u001b[33m\"\u001b[39;49;00m)\r\n",
      "                result_reward = result_reward + \u001b[36mself\u001b[39;49;00m.REWARD_MAX * \u001b[34m0.3\u001b[39;49;00m\r\n",
      "\r\n",
      "            \u001b[34mif\u001b[39;49;00m \u001b[36mabs\u001b[39;49;00m(\u001b[36mself\u001b[39;49;00m.steering_angle) <= \u001b[36mself\u001b[39;49;00m.SMOOTH_STEERING_ANGLE_TRESHOLD:\r\n",
      "                \u001b[36mself\u001b[39;49;00m.log_feature(\u001b[33m\"\u001b[39;49;00m\u001b[33mgetSteeringAngleOK\u001b[39;49;00m\u001b[33m\"\u001b[39;49;00m)\r\n",
      "                result_reward = result_reward + \u001b[36mself\u001b[39;49;00m.REWARD_MAX * \u001b[34m0.15\u001b[39;49;00m\r\n",
      "\r\n",
      "            \u001b[37m# REWARD100 - LATER ADVANCED complex learning\u001b[39;49;00m\r\n",
      "            \u001b[37m# Ideal path, speed wherever possible, carefully in corners\u001b[39;49;00m\r\n",
      "            \u001b[34mif\u001b[39;49;00m \u001b[36mself\u001b[39;49;00m.is_in_optimized_corridor():\r\n",
      "                \u001b[36mself\u001b[39;49;00m.log_feature(\u001b[33m\"\u001b[39;49;00m\u001b[33mis_in_optimized_corridor\u001b[39;49;00m\u001b[33m\"\u001b[39;49;00m)\r\n",
      "                result_reward = result_reward + \u001b[36mfloat\u001b[39;49;00m(\u001b[36mself\u001b[39;49;00m.REWARD_MAX * \u001b[34m0.45\u001b[39;49;00m)\r\n",
      "\r\n",
      "            \u001b[34mif\u001b[39;49;00m \u001b[35mnot\u001b[39;49;00m (\u001b[36mself\u001b[39;49;00m.is_in_turn()) \u001b[35mand\u001b[39;49;00m (\u001b[36mabs\u001b[39;49;00m(\u001b[36mself\u001b[39;49;00m.speed - \u001b[36mself\u001b[39;49;00m.MAX_SPEED) < (\u001b[34m0.1\u001b[39;49;00m * \u001b[36mself\u001b[39;49;00m.MAX_SPEED)) \\\r\n",
      "                    \u001b[35mand\u001b[39;49;00m \u001b[36mabs\u001b[39;49;00m(\u001b[36mself\u001b[39;49;00m.get_car_heading_error()) <= \u001b[36mself\u001b[39;49;00m.SMOOTH_STEERING_ANGLE_TRESHOLD:\r\n",
      "                \u001b[36mself\u001b[39;49;00m.log_feature(\u001b[33m\"\u001b[39;49;00m\u001b[33misStraightOnMaxSpeed\u001b[39;49;00m\u001b[33m\"\u001b[39;49;00m)\r\n",
      "                result_reward = result_reward + \u001b[36mfloat\u001b[39;49;00m(\u001b[36mself\u001b[39;49;00m.REWARD_MAX * \u001b[34m1\u001b[39;49;00m)\r\n",
      "\r\n",
      "            \u001b[34mif\u001b[39;49;00m \u001b[36mself\u001b[39;49;00m.is_in_turn() \u001b[35mand\u001b[39;49;00m \u001b[36mself\u001b[39;49;00m.is_optimum_speed():\r\n",
      "                \u001b[36mself\u001b[39;49;00m.log_feature(\u001b[33m\"\u001b[39;49;00m\u001b[33misOptimumSpeedinCurve\u001b[39;49;00m\u001b[33m\"\u001b[39;49;00m)\r\n",
      "                result_reward = result_reward + \u001b[36mfloat\u001b[39;49;00m(\u001b[36mself\u001b[39;49;00m.REWARD_MAX * \u001b[34m0.6\u001b[39;49;00m)\r\n",
      "\r\n",
      "            \u001b[37m# REWAR - Progress bonus\u001b[39;49;00m\r\n",
      "            TOTAL_NUM_STEPS = \u001b[34m150\u001b[39;49;00m\r\n",
      "            \u001b[34mif\u001b[39;49;00m (\u001b[36mself\u001b[39;49;00m.steps % \u001b[34m100\u001b[39;49;00m == \u001b[34m0\u001b[39;49;00m) \u001b[35mand\u001b[39;49;00m \u001b[36mself\u001b[39;49;00m.progress > (\u001b[36mself\u001b[39;49;00m.steps / TOTAL_NUM_STEPS):\r\n",
      "                \u001b[36mself\u001b[39;49;00m.log_feature(\u001b[33m\"\u001b[39;49;00m\u001b[33mprogressingOk\u001b[39;49;00m\u001b[33m\"\u001b[39;49;00m)\r\n",
      "                result_reward = result_reward + \u001b[36mself\u001b[39;49;00m.REWARD_MAX * \u001b[34m0.4\u001b[39;49;00m\r\n",
      "\r\n",
      "            \u001b[37m# Reach Max Waypoint - get extra reward\u001b[39;49;00m\r\n",
      "            \u001b[34mif\u001b[39;49;00m \u001b[36mself\u001b[39;49;00m.reached_target():\r\n",
      "                \u001b[36mself\u001b[39;49;00m.log_feature(\u001b[33m\"\u001b[39;49;00m\u001b[33mreached_target\u001b[39;49;00m\u001b[33m\"\u001b[39;49;00m)\r\n",
      "                result_reward = \u001b[36mfloat\u001b[39;49;00m(\u001b[36mself\u001b[39;49;00m.REWARD_MAX)\r\n",
      "\r\n",
      "        \u001b[34mexcept\u001b[39;49;00m \u001b[36mException\u001b[39;49;00m \u001b[34mas\u001b[39;49;00m e:\r\n",
      "            \u001b[34mprint\u001b[39;49;00m(\u001b[33m\"\u001b[39;49;00m\u001b[33mError : \u001b[39;49;00m\u001b[33m\"\u001b[39;49;00m + \u001b[36mstr\u001b[39;49;00m(e))\r\n",
      "            \u001b[34mprint\u001b[39;49;00m(traceback.format_exc())\r\n",
      "\r\n",
      "        \u001b[37m# Finally - check reward value does not exceed maximum value\u001b[39;49;00m\r\n",
      "        \u001b[34mif\u001b[39;49;00m result_reward > \u001b[34m900000\u001b[39;49;00m:\r\n",
      "            result_reward = \u001b[34m900000\u001b[39;49;00m\r\n",
      "\r\n",
      "        \u001b[36mself\u001b[39;49;00m.log_feature(result_reward)\r\n",
      "        \u001b[37m# self.status_to_string()\u001b[39;49;00m\r\n",
      "\r\n",
      "        \u001b[34mreturn\u001b[39;49;00m \u001b[36mfloat\u001b[39;49;00m(result_reward)\r\n",
      "\r\n",
      "\r\n",
      "\u001b[33m\"\"\"\u001b[39;49;00m\r\n",
      "\u001b[33mThis is the core function called by the environment to calculate reward value for every point of time of the training. \u001b[39;49;00m\r\n",
      "\u001b[33mparams: input values for the reward calculation (see above)\u001b[39;49;00m\r\n",
      "\u001b[33m\u001b[39;49;00m\r\n",
      "\u001b[33mUsually, this function contains all reward calculations a logic implemented. Instead, this code example is instantiating \u001b[39;49;00m\r\n",
      "\u001b[33mRewardEvaluator which has implemented a set of features one can easily combine and use.\u001b[39;49;00m\r\n",
      "\u001b[33m\"\"\"\u001b[39;49;00m\r\n",
      "\r\n",
      "\r\n",
      "\u001b[34mdef\u001b[39;49;00m \u001b[32mreward_function\u001b[39;49;00m(params):\r\n",
      "    re = RewardEvaluator(params)\r\n",
      "    \u001b[34mreturn\u001b[39;49;00m \u001b[36mfloat\u001b[39;49;00m(re.evaluate())\r\n"
     ]
    }
   ],
   "source": [
    "# Uncomment the pygmentize code lines to see the code\n",
    "\n",
    "# Environmental File\n",
    "#!pygmentize src/markov/environments/deepracer_racetrack_env.py\n",
    "\n",
    "# Reward function\n",
    "!pygmentize src/markov/rewards/complex_reward.py\n",
    "\n",
    "# Action space\n",
    "#!pygmentize src/markov/actions/model_metadata_10_state.json\n",
    "\n",
    "# Preset File\n",
    "#!pygmentize src/markov/presets/default.py\n",
    "#!pygmentize src/markov/presets/preset_attention_layer.py"
   ]
  },
  {
   "cell_type": "markdown",
   "metadata": {},
   "source": [
    "### Copy custom files to S3 bucket so that sagemaker & robomaker can pick it up"
   ]
  },
  {
   "cell_type": "code",
   "execution_count": 14,
   "metadata": {},
   "outputs": [
    {
     "name": "stdout",
     "output_type": "stream",
     "text": [
      "s3://sagemaker-us-east-1-170991494985/deepracer-notebook-3-sagemaker-191223-032202\n",
      "upload: src/markov/environments/deepracer_racetrack_env.py to s3://sagemaker-us-east-1-170991494985/deepracer-notebook-3-sagemaker-191223-032202/environments/deepracer_racetrack_env.py\n",
      "upload: src/markov/rewards/complex_reward.py to s3://sagemaker-us-east-1-170991494985/deepracer-notebook-3-sagemaker-191223-032202/rewards/reward_function.py\n",
      "upload: src/markov/actions/model_metadata_10_state.json to s3://sagemaker-us-east-1-170991494985/deepracer-notebook-3-sagemaker-191223-032202/model_metadata.json\n",
      "upload: src/markov/presets/default.py to s3://sagemaker-us-east-1-170991494985/deepracer-notebook-3-sagemaker-191223-032202/presets/preset.py\n"
     ]
    }
   ],
   "source": [
    "s3_location = \"s3://%s/%s\" % (s3_bucket, s3_prefix)\n",
    "print(s3_location)\n",
    "\n",
    "# Clean up the previously uploaded files\n",
    "!aws s3 rm --recursive {s3_location}\n",
    "\n",
    "# Make any changes to the environment and preset files below and upload these files\n",
    "!aws s3 cp src/markov/environments/deepracer_racetrack_env.py {s3_location}/environments/deepracer_racetrack_env.py\n",
    "\n",
    "!aws s3 cp src/markov/rewards/complex_reward.py {s3_location}/rewards/reward_function.py\n",
    "\n",
    "!aws s3 cp src/markov/actions/model_metadata_10_state.json {s3_location}/model_metadata.json\n",
    "\n",
    "!aws s3 cp src/markov/presets/default.py {s3_location}/presets/preset.py\n",
    "#!aws s3 cp src/markov/presets/preset_attention_layer.py {s3_location}/presets/preset.py"
   ]
  },
  {
   "cell_type": "markdown",
   "metadata": {},
   "source": [
    "### Train the RL model using the Python SDK Script mode\n",
    "\n",
    "Next, we define the following algorithm metrics that we want to capture from cloudwatch logs to monitor the training progress. These are algorithm specific parameters and might change for different algorithm. We use [Clipped PPO](https://coach.nervanasys.com/algorithms/policy_optimization/cppo/index.html) for this example."
   ]
  },
  {
   "cell_type": "code",
   "execution_count": 15,
   "metadata": {},
   "outputs": [],
   "source": [
    "metric_definitions = [\n",
    "    # Training> Name=main_level/agent, Worker=0, Episode=19, Total reward=-102.88, Steps=19019, Training iteration=1\n",
    "    {'Name': 'reward-training',\n",
    "     'Regex': '^Training>.*Total reward=(.*?),'},\n",
    "    \n",
    "    # Policy training> Surrogate loss=-0.32664725184440613, KL divergence=7.255815035023261e-06, Entropy=2.83156156539917, training epoch=0, learning_rate=0.00025\n",
    "    {'Name': 'ppo-surrogate-loss',\n",
    "     'Regex': '^Policy training>.*Surrogate loss=(.*?),'},\n",
    "     {'Name': 'ppo-entropy',\n",
    "     'Regex': '^Policy training>.*Entropy=(.*?),'},\n",
    "   \n",
    "    # Testing> Name=main_level/agent, Worker=0, Episode=19, Total reward=1359.12, Steps=20015, Training iteration=2\n",
    "    {'Name': 'reward-testing',\n",
    "     'Regex': '^Testing>.*Total reward=(.*?),'},\n",
    "]"
   ]
  },
  {
   "cell_type": "markdown",
   "metadata": {},
   "source": [
    "We use the RLEstimator for training RL jobs.\n",
    "\n",
    "1. Specify the source directory which has the environment file, preset and training code.\n",
    "2. Specify the entry point as the training code\n",
    "3. Specify the choice of RL toolkit and framework. This automatically resolves to the ECR path for the RL Container.\n",
    "4. Define the training parameters such as the instance count, instance type, job name, s3_bucket and s3_prefix for storing model checkpoints and metadata. **Only 1 training instance is supported for now.**\n",
    "4. Set the RLCOACH_PRESET as \"deepracer\" for this example.\n",
    "5. Define the metrics definitions that you are interested in capturing in your logs. These can also be visualized in CloudWatch and SageMaker Notebooks."
   ]
  },
  {
   "cell_type": "code",
   "execution_count": 16,
   "metadata": {},
   "outputs": [
    {
     "name": "stdout",
     "output_type": "stream",
     "text": [
      "Training job: deepracer-notebook-3-2019-12-23-03-22-49-340\n"
     ]
    }
   ],
   "source": [
    "estimator = RLEstimator(entry_point=\"training_worker.py\",\n",
    "                        source_dir='src',\n",
    "                        image_name=custom_image_name,\n",
    "                        dependencies=[\"common/\"],\n",
    "                        role=sagemaker_role,\n",
    "                        train_instance_type=instance_type,\n",
    "                        train_instance_count=1,\n",
    "                        output_path=s3_output_path,\n",
    "                        base_job_name=job_name_prefix,\n",
    "                        metric_definitions=metric_definitions,\n",
    "                        train_max_run=job_duration_in_seconds,\n",
    "                        hyperparameters={\n",
    "                            \"s3_bucket\": s3_bucket,\n",
    "                            \"s3_prefix\": s3_prefix,\n",
    "                            \"aws_region\": aws_region,\n",
    "                            \"preset_s3_key\": \"%s/presets/preset.py\"% s3_prefix,\n",
    "                            \"model_metadata_s3_key\": \"%s/model_metadata.json\" % s3_prefix,\n",
    "                            \"environment_s3_key\": \"%s/environments/deepracer_racetrack_env.py\" % s3_prefix,\n",
    "                        },\n",
    "                        subnets=deepracer_subnets,\n",
    "                        security_group_ids=deepracer_security_groups,\n",
    "                    )\n",
    "\n",
    "estimator.fit(wait=False)\n",
    "job_name = estimator.latest_training_job.job_name\n",
    "print(\"Training job: %s\" % job_name)"
   ]
  },
  {
   "cell_type": "markdown",
   "metadata": {},
   "source": [
    "### Create the Kinesis video stream"
   ]
  },
  {
   "cell_type": "code",
   "execution_count": 17,
   "metadata": {},
   "outputs": [
    {
     "name": "stdout",
     "output_type": "stream",
     "text": [
      "{\n",
      "    \"StreamARN\": \"arn:aws:kinesisvideo:us-east-1:170991494985:stream/dr-kvs-deepracer-notebook-3-2019-12-23-03-22-49-340/1577071373572\"\n",
      "}\n",
      "Created kinesis video stream dr-kvs-deepracer-notebook-3-2019-12-23-03-22-49-340\n"
     ]
    }
   ],
   "source": [
    "kvs_stream_name = \"dr-kvs-{}\".format(job_name)\n",
    "\n",
    "!aws --region {aws_region} kinesisvideo create-stream --stream-name {kvs_stream_name} --media-type video/h264 --data-retention-in-hours 24\n",
    "print (\"Created kinesis video stream {}\".format(kvs_stream_name))"
   ]
  },
  {
   "cell_type": "markdown",
   "metadata": {},
   "source": [
    "### Start the Robomaker job"
   ]
  },
  {
   "cell_type": "code",
   "execution_count": 2,
   "metadata": {},
   "outputs": [],
   "source": [
    "robomaker = boto3.client(\"robomaker\")"
   ]
  },
  {
   "cell_type": "markdown",
   "metadata": {},
   "source": [
    "### Create Simulation Application"
   ]
  },
  {
   "cell_type": "code",
   "execution_count": 19,
   "metadata": {},
   "outputs": [],
   "source": [
    "robomaker_s3_key = 'robomaker/simulation_ws.tar.gz'\n",
    "robomaker_source = {'s3Bucket': s3_bucket,\n",
    "                    's3Key': robomaker_s3_key,\n",
    "                    'architecture': \"X86_64\"}\n",
    "simulation_software_suite={'name': 'Gazebo',\n",
    "                           'version': '7'}\n",
    "robot_software_suite={'name': 'ROS',\n",
    "                      'version': 'Kinetic'}\n",
    "rendering_engine={'name': 'OGRE',\n",
    "                  'version': '1.x'}"
   ]
  },
  {
   "cell_type": "markdown",
   "metadata": {},
   "source": [
    "Download the DeepRacer bundle provided by RoboMaker service and upload it in our S3 bucket to create a RoboMaker Simulation Application"
   ]
  },
  {
   "cell_type": "code",
   "execution_count": 20,
   "metadata": {},
   "outputs": [
    {
     "name": "stdout",
     "output_type": "stream",
     "text": [
      "Using the latest simapp from public s3 bucket\n",
      "download: s3://deepracer-managed-resources-us-east-1/deepracer-simapp-notebook.tar.gz to ./deepracer-simapp-notebook.tar.gz\n",
      "delete: s3://sagemaker-us-east-1-170991494985/robomaker/simulation_ws.tar.gz\n",
      "upload: ./deepracer-simapp-notebook.tar.gz to s3://sagemaker-us-east-1-170991494985/robomaker/simulation_ws.tar.gz\n"
     ]
    }
   ],
   "source": [
    "if not os.path.exists('./build/output.tar.gz'):\n",
    "    print(\"Using the latest simapp from public s3 bucket\")\n",
    "    # Download Robomaker simApp for the deepracer public s3 bucket\n",
    "    simulation_application_bundle_location = \"s3://deepracer-managed-resources-us-east-1/deepracer-simapp-notebook.tar.gz\"\n",
    "    !aws s3 cp {simulation_application_bundle_location} ./\n",
    "\n",
    "    # Remove if the Robomaker sim-app is present in s3 bucket\n",
    "    !aws s3 rm s3://{s3_bucket}/{robomaker_s3_key}\n",
    "\n",
    "    # Uploading the Robomaker SimApp to your S3 bucket\n",
    "    !aws s3 cp ./deepracer-simapp-notebook.tar.gz s3://{s3_bucket}/{robomaker_s3_key}\n",
    "\n",
    "    # Cleanup the locally downloaded version of SimApp\n",
    "    !rm deepracer-simapp-notebook.tar.gz\n",
    "else:\n",
    "    print(\"Using the simapp from build directory\")\n",
    "    !aws s3 cp ./build/output.tar.gz s3://{s3_bucket}/{robomaker_s3_key}"
   ]
  },
  {
   "cell_type": "code",
   "execution_count": 22,
   "metadata": {},
   "outputs": [
    {
     "name": "stdout",
     "output_type": "stream",
     "text": [
      "deepracer-notebook-application191223-032416\n",
      "Created a new simulation app with ARN: arn:aws:robomaker:us-east-1:170991494985:simulation-application/deepracer-notebook-application191223-032416/1577071456961\n"
     ]
    }
   ],
   "source": [
    "app_name = \"deepracer-notebook-application\" + strftime(\"%y%m%d-%H%M%S\", gmtime())\n",
    "\n",
    "print(app_name)\n",
    "try:\n",
    "    response = robomaker.create_simulation_application(name=app_name,\n",
    "                                                       sources=[robomaker_source],\n",
    "                                                       simulationSoftwareSuite=simulation_software_suite,\n",
    "                                                       robotSoftwareSuite=robot_software_suite,\n",
    "                                                       renderingEngine=rendering_engine)\n",
    "    simulation_app_arn = response[\"arn\"]\n",
    "    print(\"Created a new simulation app with ARN:\", simulation_app_arn)\n",
    "except Exception as e:\n",
    "    if \"AccessDeniedException\" in str(e):\n",
    "        display(Markdown(generate_help_for_robomaker_all_permissions(role)))\n",
    "        raise e\n",
    "    else:\n",
    "        raise e"
   ]
  },
  {
   "cell_type": "markdown",
   "metadata": {},
   "source": [
    "### Launch the Simulation job on RoboMaker\n",
    "\n",
    "We create [AWS RoboMaker](https://console.aws.amazon.com/robomaker/home#welcome) Simulation Jobs that simulates the environment and shares this data with SageMaker for training. "
   ]
  },
  {
   "cell_type": "code",
   "execution_count": 23,
   "metadata": {},
   "outputs": [
    {
     "name": "stdout",
     "output_type": "stream",
     "text": [
      "Created the following jobs:\n",
      "Job ARN arn:aws:robomaker:us-east-1:170991494985:simulation-job/sim-mq0b5m3z0jkb\n"
     ]
    }
   ],
   "source": [
    "num_simulation_workers = 1\n",
    "\n",
    "envriron_vars = {\n",
    "    \"WORLD_NAME\": \"reinvent_base\",\n",
    "    \"KINESIS_VIDEO_STREAM_NAME\": kvs_stream_name,\n",
    "    \"SAGEMAKER_SHARED_S3_BUCKET\": s3_bucket,\n",
    "    \"SAGEMAKER_SHARED_S3_PREFIX\": s3_prefix,\n",
    "    \"TRAINING_JOB_ARN\": job_name,\n",
    "    \"APP_REGION\": aws_region,\n",
    "    \"METRIC_NAME\": \"TrainingRewardScore\",\n",
    "    \"METRIC_NAMESPACE\": \"AWSDeepRacer\",\n",
    "    \"REWARD_FILE_S3_KEY\": \"%s/rewards/reward_function.py\" % s3_prefix,\n",
    "    \"MODEL_METADATA_FILE_S3_KEY\": \"%s/model_metadata.json\" % s3_prefix,\n",
    "    \"METRICS_S3_BUCKET\": s3_bucket,\n",
    "    \"METRICS_S3_OBJECT_KEY\": s3_bucket + \"/training_metrics.json\",\n",
    "    \"TARGET_REWARD_SCORE\": \"None\",\n",
    "    \"NUMBER_OF_EPISODES\": \"0\",\n",
    "    \"ROBOMAKER_SIMULATION_JOB_ACCOUNT_ID\": account_id\n",
    "}\n",
    "\n",
    "simulation_application = {\"application\":simulation_app_arn,\n",
    "                          \"launchConfig\": {\"packageName\": \"deepracer_simulation_environment\",\n",
    "                                           \"launchFile\": \"distributed_training.launch\",\n",
    "                                           \"environmentVariables\": envriron_vars}\n",
    "                         }\n",
    "\n",
    "\n",
    "vpcConfig = {\"subnets\": deepracer_subnets,\n",
    "             \"securityGroups\": deepracer_security_groups,\n",
    "             \"assignPublicIp\": True}\n",
    "\n",
    "responses = []\n",
    "for job_no in range(num_simulation_workers):\n",
    "    client_request_token = strftime(\"%Y-%m-%d-%H-%M-%S\", gmtime())\n",
    "    response =  robomaker.create_simulation_job(iamRole=sagemaker_role,\n",
    "                                            clientRequestToken=client_request_token,\n",
    "                                            maxJobDurationInSeconds=job_duration_in_seconds,\n",
    "                                            failureBehavior=\"Continue\",\n",
    "                                            simulationApplications=[simulation_application],\n",
    "                                            vpcConfig=vpcConfig\n",
    "                                            )\n",
    "    responses.append(response)\n",
    "\n",
    "print(\"Created the following jobs:\")\n",
    "job_arns = [response[\"arn\"] for response in responses]\n",
    "for response in responses:\n",
    "    print(\"Job ARN\", response[\"arn\"]) "
   ]
  },
  {
   "cell_type": "markdown",
   "metadata": {},
   "source": [
    "### Visualizing the simulations in RoboMaker\n",
    "You can visit the RoboMaker console to visualize the simulations or run the following cell to generate the hyperlinks."
   ]
  },
  {
   "cell_type": "code",
   "execution_count": 83,
   "metadata": {},
   "outputs": [
    {
     "data": {
      "text/markdown": [
       "> Click on the following links for visualization of simulation jobs on RoboMaker Console\n",
       "- [Simulation 1](https://us-east-1.console.aws.amazon.com/robomaker/home?region=us-east-1#simulationJobs/sim-dl98zlz9xz8b)  \n",
       "\n",
       "You can click on Gazebo after you open the above link to start the simulator."
      ],
      "text/plain": [
       "<IPython.core.display.Markdown object>"
      ]
     },
     "metadata": {},
     "output_type": "display_data"
    }
   ],
   "source": [
    "display(Markdown(generate_robomaker_links(job_arns, aws_region)))"
   ]
  },
  {
   "cell_type": "markdown",
   "metadata": {},
   "source": [
    "### Creating temporary folder top plot metrics"
   ]
  },
  {
   "cell_type": "code",
   "execution_count": 21,
   "metadata": {},
   "outputs": [
    {
     "name": "stdout",
     "output_type": "stream",
     "text": [
      "Create local folder /tmp/deepracer-notebook-2-2019-12-18-06-46-58-331\n"
     ]
    }
   ],
   "source": [
    "tmp_dir = \"/tmp/{}\".format(job_name)\n",
    "os.system(\"mkdir {}\".format(tmp_dir))\n",
    "print(\"Create local folder {}\".format(tmp_dir))"
   ]
  },
  {
   "cell_type": "markdown",
   "metadata": {},
   "source": [
    "### Plot metrics for training job"
   ]
  },
  {
   "cell_type": "code",
   "execution_count": null,
   "metadata": {},
   "outputs": [
    {
     "data": {
      "image/png": "[encoded data removed]",
      "text/plain": [
       "<Figure size 432x288 with 1 Axes>"
      ]
     },
     "metadata": {},
     "output_type": "display_data"
    },
    {
     "name": "stderr",
     "output_type": "stream",
     "text": [
      "Exception in callback BaseAsyncIOLoop._handle_events(11, 1)\n",
      "handle: <Handle BaseAsyncIOLoop._handle_events(11, 1)>\n",
      "Traceback (most recent call last):\n",
      "  File \"/home/ec2-user/anaconda3/envs/amazonei_tensorflow_p36/lib/python3.6/asyncio/events.py\", line 145, in _run\n",
      "    self._callback(*self._args)\n",
      "  File \"/home/ec2-user/anaconda3/envs/amazonei_tensorflow_p36/lib/python3.6/site-packages/tornado/platform/asyncio.py\", line 117, in _handle_events\n",
      "    handler_func(fileobj, events)\n",
      "  File \"/home/ec2-user/anaconda3/envs/amazonei_tensorflow_p36/lib/python3.6/site-packages/tornado/stack_context.py\", line 276, in null_wrapper\n",
      "    return fn(*args, **kwargs)\n",
      "  File \"/home/ec2-user/anaconda3/envs/amazonei_tensorflow_p36/lib/python3.6/site-packages/zmq/eventloop/zmqstream.py\", line 450, in _handle_events\n",
      "    self._handle_recv()\n",
      "  File \"/home/ec2-user/anaconda3/envs/amazonei_tensorflow_p36/lib/python3.6/site-packages/zmq/eventloop/zmqstream.py\", line 480, in _handle_recv\n",
      "    self._run_callback(callback, msg)\n",
      "  File \"/home/ec2-user/anaconda3/envs/amazonei_tensorflow_p36/lib/python3.6/site-packages/zmq/eventloop/zmqstream.py\", line 432, in _run_callback\n",
      "    callback(*args, **kwargs)\n",
      "  File \"/home/ec2-user/anaconda3/envs/amazonei_tensorflow_p36/lib/python3.6/site-packages/tornado/stack_context.py\", line 276, in null_wrapper\n",
      "    return fn(*args, **kwargs)\n",
      "  File \"/home/ec2-user/anaconda3/envs/amazonei_tensorflow_p36/lib/python3.6/site-packages/ipykernel/kernelbase.py\", line 283, in dispatcher\n",
      "    return self.dispatch_shell(stream, msg)\n",
      "  File \"/home/ec2-user/anaconda3/envs/amazonei_tensorflow_p36/lib/python3.6/site-packages/ipykernel/kernelbase.py\", line 239, in dispatch_shell\n",
      "    sys.stdout.flush()\n",
      "ValueError: I/O operation on closed file.\n"
     ]
    }
   ],
   "source": [
    "%matplotlib inline\n",
    "\n",
    "training_metrics_file = \"training_metrics.json\"\n",
    "training_metrics_path = \"{}/{}\".format(s3_bucket, training_metrics_file)\n",
    "\n",
    "\n",
    "# Disable\n",
    "def blockPrint():\n",
    "    sys.stdout = open(os.devnull, 'w')\n",
    "\n",
    "# Restore\n",
    "def enablePrint():\n",
    "    sys.stdout.close()\n",
    "    sys.stdout = self._original_stdout \n",
    "        \n",
    "        \n",
    "\n",
    "plt.ion() ## Note this correction\n",
    "fig = plt.figure()\n",
    "ax = fig.add_subplot(1, 1, 1)\n",
    "\n",
    "x_axis = 'episode'\n",
    "y_axis = 'reward_score'\n",
    "for i in range(200):\n",
    "#     print(i)\n",
    "    blockPrint()\n",
    "    wait_for_s3_object(s3_bucket, training_metrics_path, tmp_dir)\n",
    "\n",
    "    json_file = \"{}/{}\".format(tmp_dir, training_metrics_file)\n",
    "    with open(json_file) as fp:  \n",
    "        data = json.load(fp)\n",
    "        data = pd.DataFrame(data['metrics'])\n",
    "\n",
    "    x = data[x_axis].values\n",
    "    y = data[y_axis].values    \n",
    "#     print(len(x))\n",
    "    ax.set_xlim(0, np.max(x)) \n",
    "    ax.plot(x, y)    \n",
    "    display(fig)\n",
    "    clear_output(wait = True)\n",
    "        \n",
    "    plt.pause(0.5)\n",
    "    enablePrint()\n"
   ]
  },
  {
   "cell_type": "markdown",
   "metadata": {},
   "source": [
    "### Clean up RoboMaker and SageMaker training job\n",
    "\n",
    "Execute the cells below if you want to kill RoboMaker and SageMaker job."
   ]
  },
  {
   "cell_type": "code",
   "execution_count": 29,
   "metadata": {},
   "outputs": [
    {
     "data": {
      "text/plain": [
       "{'ResponseMetadata': {'RequestId': '14dc733d-68fb-4f23-8eb3-dd5f33dcd44f',\n",
       "  'HTTPStatusCode': 200,\n",
       "  'HTTPHeaders': {'x-amzn-requestid': '14dc733d-68fb-4f23-8eb3-dd5f33dcd44f',\n",
       "   'content-type': 'application/x-amz-json-1.1',\n",
       "   'content-length': '0',\n",
       "   'date': 'Mon, 16 Dec 2019 08:23:57 GMT'},\n",
       "  'RetryAttempts': 0}}"
      ]
     },
     "execution_count": 29,
     "metadata": {},
     "output_type": "execute_result"
    }
   ],
   "source": [
    "# # Cancelling robomaker job\n",
    "for job_arn in job_arns:\n",
    "    robomaker.cancel_simulation_job(job=job_arn)\n",
    "\n",
    "# # Stopping sagemaker training job\n",
    "sage_session.sagemaker_client.stop_training_job(TrainingJobName=estimator._current_job_name)"
   ]
  },
  {
   "cell_type": "code",
   "execution_count": null,
   "metadata": {},
   "outputs": [],
   "source": [
    "import os, sys\n",
    "\n",
    "class HiddenPrints:\n",
    "    def __enter__(self):\n",
    "        self._original_stdout = sys.stdout\n",
    "        sys.stdout = open(os.devnull, 'w')\n",
    "\n",
    "    def __exit__(self, exc_type, exc_val, exc_tb):\n",
    "        sys.stdout.close()\n",
    "        sys.stdout = self._original_stdout\n",
    "        \n",
    "with HiddenPrints():\n",
    "    print*('aa')\n",
    "\n",
    "print('test')"
   ]
  },
  {
   "cell_type": "markdown",
   "metadata": {},
   "source": [
    "### Evaluation - ReInvent Track"
   ]
  },
  {
   "cell_type": "code",
   "execution_count": 101,
   "metadata": {},
   "outputs": [],
   "source": [
    "sys.path.append(\"./src\")\n",
    "\n",
    "num_simulation_workers = 1\n",
    "\n",
    "envriron_vars = {\n",
    "    \"WORLD_NAME\": \"reinvent_base\",\n",
    "    \"KINESIS_VIDEO_STREAM_NAME\": \"SilverstoneStream\",\n",
    "    \"MODEL_S3_BUCKET\": s3_bucket,\n",
    "    \"MODEL_S3_PREFIX\": s3_prefix,\n",
    "    \"APP_REGION\": aws_region,\n",
    "    \"MODEL_METADATA_FILE_S3_KEY\": \"%s/model_metadata.json\" % s3_prefix,\n",
    "    \"METRICS_S3_BUCKET\": s3_bucket,\n",
    "    \"METRICS_S3_OBJECT_KEY\": s3_bucket + \"/evaluation_metrics.json\",\n",
    "    \"NUMBER_OF_TRIALS\": \"5\",\n",
    "    \"ROBOMAKER_SIMULATION_JOB_ACCOUNT_ID\": account_id\n",
    "}\n",
    "\n",
    "simulation_application = {\n",
    "    \"application\":simulation_app_arn,\n",
    "    \"launchConfig\": {\n",
    "         \"packageName\": \"deepracer_simulation_environment\",\n",
    "         \"launchFile\": \"evaluation.launch\",\n",
    "         \"environmentVariables\": envriron_vars\n",
    "    }\n",
    "}\n",
    "                            \n",
    "vpcConfig = {\"subnets\": deepracer_subnets,\n",
    "             \"securityGroups\": deepracer_security_groups,\n",
    "             \"assignPublicIp\": True}\n",
    "\n",
    "responses = []\n",
    "for job_no in range(num_simulation_workers):\n",
    "    response =  robomaker.create_simulation_job(clientRequestToken=strftime(\"%Y-%m-%d-%H-%M-%S\", gmtime()),\n",
    "                                                outputLocation={ \n",
    "                                                  \"s3Bucket\": s3_bucket,\n",
    "                                                  \"s3Prefix\": s3_prefix\n",
    "                                                },\n",
    "                                                maxJobDurationInSeconds=job_duration_in_seconds,\n",
    "                                                iamRole=sagemaker_role,\n",
    "                                                failureBehavior=\"Continue\",\n",
    "                                                simulationApplications=[simulation_application],\n",
    "                                                vpcConfig=vpcConfig)\n",
    "    responses.append(response)\n",
    "\n",
    "# print(\"Created the following jobs:\")\n",
    "for response in responses:\n",
    "    print(\"Job ARN\", response[\"arn\"]) "
   ]
  },
  {
   "cell_type": "markdown",
   "metadata": {},
   "source": [
    "### Creating temporary folder top plot metrics"
   ]
  },
  {
   "cell_type": "code",
   "execution_count": null,
   "metadata": {},
   "outputs": [
    {
     "name": "stderr",
     "output_type": "stream",
     "text": [
      "Exception in thread IPythonHistorySavingThread:\n",
      "Traceback (most recent call last):\n",
      "  File \"/home/ec2-user/anaconda3/envs/amazonei_tensorflow_p36/lib/python3.6/site-packages/IPython/core/history.py\", line 780, in writeout_cache\n",
      "    self._writeout_input_cache(conn)\n",
      "  File \"/home/ec2-user/anaconda3/envs/amazonei_tensorflow_p36/lib/python3.6/site-packages/IPython/core/history.py\", line 764, in _writeout_input_cache\n",
      "    (self.session_number,)+line)\n",
      "sqlite3.IntegrityError: UNIQUE constraint failed: history.session, history.line\n",
      "\n",
      "During handling of the above exception, another exception occurred:\n",
      "\n",
      "Traceback (most recent call last):\n",
      "  File \"/home/ec2-user/anaconda3/envs/amazonei_tensorflow_p36/lib/python3.6/site-packages/IPython/core/history.py\", line 834, in run\n",
      "    self.history_manager.writeout_cache(self.db)\n",
      "  File \"<decorator-gen-23>\", line 2, in writeout_cache\n",
      "  File \"/home/ec2-user/anaconda3/envs/amazonei_tensorflow_p36/lib/python3.6/site-packages/IPython/core/history.py\", line 58, in needs_sqlite\n",
      "    return f(self, *a, **kw)\n",
      "  File \"/home/ec2-user/anaconda3/envs/amazonei_tensorflow_p36/lib/python3.6/site-packages/IPython/core/history.py\", line 785, in writeout_cache\n",
      "    self.session_number)\n",
      "ValueError: I/O operation on closed file.\n",
      "\n",
      "During handling of the above exception, another exception occurred:\n",
      "\n",
      "Traceback (most recent call last):\n",
      "  File \"/home/ec2-user/anaconda3/envs/amazonei_tensorflow_p36/lib/python3.6/threading.py\", line 916, in _bootstrap_inner\n",
      "    self.run()\n",
      "  File \"<decorator-gen-24>\", line 2, in run\n",
      "  File \"/home/ec2-user/anaconda3/envs/amazonei_tensorflow_p36/lib/python3.6/site-packages/IPython/core/history.py\", line 58, in needs_sqlite\n",
      "    return f(self, *a, **kw)\n",
      "  File \"/home/ec2-user/anaconda3/envs/amazonei_tensorflow_p36/lib/python3.6/site-packages/IPython/core/history.py\", line 837, in run\n",
      "    \"History will not be written to the database.\") % repr(e))\n",
      "ValueError: I/O operation on closed file.\n",
      "\n",
      "Exception in callback BaseAsyncIOLoop._handle_events(11, 1)\n",
      "handle: <Handle BaseAsyncIOLoop._handle_events(11, 1)>\n",
      "Traceback (most recent call last):\n",
      "  File \"/home/ec2-user/anaconda3/envs/amazonei_tensorflow_p36/lib/python3.6/asyncio/events.py\", line 145, in _run\n",
      "    self._callback(*self._args)\n",
      "  File \"/home/ec2-user/anaconda3/envs/amazonei_tensorflow_p36/lib/python3.6/site-packages/tornado/platform/asyncio.py\", line 117, in _handle_events\n",
      "    handler_func(fileobj, events)\n",
      "  File \"/home/ec2-user/anaconda3/envs/amazonei_tensorflow_p36/lib/python3.6/site-packages/tornado/stack_context.py\", line 276, in null_wrapper\n",
      "    return fn(*args, **kwargs)\n",
      "  File \"/home/ec2-user/anaconda3/envs/amazonei_tensorflow_p36/lib/python3.6/site-packages/zmq/eventloop/zmqstream.py\", line 450, in _handle_events\n",
      "    self._handle_recv()\n",
      "  File \"/home/ec2-user/anaconda3/envs/amazonei_tensorflow_p36/lib/python3.6/site-packages/zmq/eventloop/zmqstream.py\", line 480, in _handle_recv\n",
      "    self._run_callback(callback, msg)\n",
      "  File \"/home/ec2-user/anaconda3/envs/amazonei_tensorflow_p36/lib/python3.6/site-packages/zmq/eventloop/zmqstream.py\", line 432, in _run_callback\n",
      "    callback(*args, **kwargs)\n",
      "  File \"/home/ec2-user/anaconda3/envs/amazonei_tensorflow_p36/lib/python3.6/site-packages/tornado/stack_context.py\", line 276, in null_wrapper\n",
      "    return fn(*args, **kwargs)\n",
      "  File \"/home/ec2-user/anaconda3/envs/amazonei_tensorflow_p36/lib/python3.6/site-packages/ipykernel/kernelbase.py\", line 283, in dispatcher\n",
      "    return self.dispatch_shell(stream, msg)\n",
      "  File \"/home/ec2-user/anaconda3/envs/amazonei_tensorflow_p36/lib/python3.6/site-packages/ipykernel/kernelbase.py\", line 239, in dispatch_shell\n",
      "    sys.stdout.flush()\n",
      "ValueError: I/O operation on closed file.\n"
     ]
    }
   ],
   "source": [
    "evaluation_metrics_file = \"evaluation_metrics.json\"\n",
    "evaluation_metrics_path = \"{}/{}\".format(s3_bucket, evaluation_metrics_file)\n",
    "wait_for_s3_object(s3_bucket, evaluation_metrics_path, tmp_dir)\n",
    "\n",
    "json_file = \"{}/{}\".format(tmp_dir, evaluation_metrics_file)\n",
    "with open(json_file) as fp:  \n",
    "    data = json.load(fp)\n",
    "\n",
    "df = pd.DataFrame(data['metrics'])\n",
    "# Converting milliseconds to seconds\n",
    "df['elapsed_time'] = df['elapsed_time_in_milliseconds']/1000\n",
    "df = df[['trial', 'completion_percentage', 'elapsed_time']]\n",
    "\n",
    "display(df)"
   ]
  },
  {
   "cell_type": "markdown",
   "metadata": {},
   "source": [
    "### Clean Up Simulation Application Resource"
   ]
  },
  {
   "cell_type": "code",
   "execution_count": 6,
   "metadata": {},
   "outputs": [],
   "source": [
    "robomaker.delete_simulation_application(application=simulation_app_arn)"
   ]
  },
  {
   "cell_type": "markdown",
   "metadata": {},
   "source": [
    "### Clean your S3 bucket (Uncomment the awscli commands if you want to do it)"
   ]
  },
  {
   "cell_type": "code",
   "execution_count": 1,
   "metadata": {},
   "outputs": [],
   "source": [
    "## Uncomment if you only want to clean the s3 bucket\n",
    "# sagemaker_s3_folder = \"s3://{}/{}\".format(s3_bucket, s3_prefix)\n",
    "# !aws s3 rm --recursive {sagemaker_s3_folder}\n",
    "\n",
    "# robomaker_s3_folder = \"s3://{}/{}\".format(s3_bucket, job_name)\n",
    "# !aws s3 rm --recursive {robomaker_s3_folder}\n",
    "\n",
    "# robomaker_sim_app = \"s3://{}/{}\".format(s3_bucket, 'robomaker')\n",
    "# !aws s3 rm --recursive {robomaker_sim_app}\n",
    "\n",
    "# model_output = \"s3://{}/{}\".format(s3_bucket, s3_bucket)\n",
    "# !aws s3 rm --recursive {model_output}"
   ]
  },
  {
   "cell_type": "code",
   "execution_count": 1,
   "metadata": {},
   "outputs": [],
   "source": [
    "from src.core.DeepRacerEngine import DeepRacerEngine"
   ]
  },
  {
   "cell_type": "code",
   "execution_count": 2,
   "metadata": {},
   "outputs": [],
   "source": [
    "params = {\n",
    "    'job_name': 'dr-test-d',\n",
    "    'job_duration': 600,\n",
    "    'batch_size':256\n",
    "}\n"
   ]
  },
  {
   "cell_type": "code",
   "execution_count": 3,
   "metadata": {},
   "outputs": [
    {
     "name": "stdout",
     "output_type": "stream",
     "text": [
      "***Deep Racer Engine Backend***\n"
     ]
    }
   ],
   "source": [
    "deepRacer = DeepRacerEngine(params)"
   ]
  },
  {
   "cell_type": "code",
   "execution_count": null,
   "metadata": {
    "scrolled": false
   },
   "outputs": [
    {
     "data": {
      "image/png": "[encoded data removed]",
      "text/plain": [
       "<Figure size 432x288 with 1 Axes>"
      ]
     },
     "metadata": {},
     "output_type": "display_data"
    },
    {
     "name": "stderr",
     "output_type": "stream",
     "text": [
      "Exception in callback BaseAsyncIOLoop._handle_events(11, 1)\n",
      "handle: <Handle BaseAsyncIOLoop._handle_events(11, 1)>\n",
      "Traceback (most recent call last):\n",
      "  File \"/home/ec2-user/anaconda3/envs/amazonei_tensorflow_p36/lib/python3.6/asyncio/events.py\", line 145, in _run\n",
      "    self._callback(*self._args)\n",
      "  File \"/home/ec2-user/anaconda3/envs/amazonei_tensorflow_p36/lib/python3.6/site-packages/tornado/platform/asyncio.py\", line 117, in _handle_events\n",
      "    handler_func(fileobj, events)\n",
      "  File \"/home/ec2-user/anaconda3/envs/amazonei_tensorflow_p36/lib/python3.6/site-packages/tornado/stack_context.py\", line 276, in null_wrapper\n",
      "    return fn(*args, **kwargs)\n",
      "  File \"/home/ec2-user/anaconda3/envs/amazonei_tensorflow_p36/lib/python3.6/site-packages/zmq/eventloop/zmqstream.py\", line 450, in _handle_events\n",
      "    self._handle_recv()\n",
      "  File \"/home/ec2-user/anaconda3/envs/amazonei_tensorflow_p36/lib/python3.6/site-packages/zmq/eventloop/zmqstream.py\", line 480, in _handle_recv\n",
      "    self._run_callback(callback, msg)\n",
      "  File \"/home/ec2-user/anaconda3/envs/amazonei_tensorflow_p36/lib/python3.6/site-packages/zmq/eventloop/zmqstream.py\", line 432, in _run_callback\n",
      "    callback(*args, **kwargs)\n",
      "  File \"/home/ec2-user/anaconda3/envs/amazonei_tensorflow_p36/lib/python3.6/site-packages/tornado/stack_context.py\", line 276, in null_wrapper\n",
      "    return fn(*args, **kwargs)\n",
      "  File \"/home/ec2-user/anaconda3/envs/amazonei_tensorflow_p36/lib/python3.6/site-packages/ipykernel/kernelbase.py\", line 283, in dispatcher\n",
      "    return self.dispatch_shell(stream, msg)\n",
      "  File \"/home/ec2-user/anaconda3/envs/amazonei_tensorflow_p36/lib/python3.6/site-packages/ipykernel/kernelbase.py\", line 239, in dispatch_shell\n",
      "    sys.stdout.flush()\n",
      "ValueError: I/O operation on closed file.\n"
     ]
    }
   ],
   "source": [
    "deepRacer.start_training_testing_process()"
   ]
  },
  {
   "cell_type": "code",
   "execution_count": null,
   "metadata": {},
   "outputs": [
    {
     "data": {
      "image/png": "[encoded data removed]",
      "text/plain": [
       "<Figure size 432x288 with 1 Axes>"
      ]
     },
     "metadata": {},
     "output_type": "display_data"
    },
    {
     "name": "stderr",
     "output_type": "stream",
     "text": [
      "Exception in callback BaseAsyncIOLoop._handle_events(11, 1)\n",
      "handle: <Handle BaseAsyncIOLoop._handle_events(11, 1)>\n",
      "Traceback (most recent call last):\n",
      "  File \"/home/ec2-user/anaconda3/envs/amazonei_tensorflow_p36/lib/python3.6/asyncio/events.py\", line 145, in _run\n",
      "    self._callback(*self._args)\n",
      "  File \"/home/ec2-user/anaconda3/envs/amazonei_tensorflow_p36/lib/python3.6/site-packages/tornado/platform/asyncio.py\", line 117, in _handle_events\n",
      "    handler_func(fileobj, events)\n",
      "  File \"/home/ec2-user/anaconda3/envs/amazonei_tensorflow_p36/lib/python3.6/site-packages/tornado/stack_context.py\", line 276, in null_wrapper\n",
      "    return fn(*args, **kwargs)\n",
      "  File \"/home/ec2-user/anaconda3/envs/amazonei_tensorflow_p36/lib/python3.6/site-packages/zmq/eventloop/zmqstream.py\", line 450, in _handle_events\n",
      "    self._handle_recv()\n",
      "  File \"/home/ec2-user/anaconda3/envs/amazonei_tensorflow_p36/lib/python3.6/site-packages/zmq/eventloop/zmqstream.py\", line 480, in _handle_recv\n",
      "    self._run_callback(callback, msg)\n",
      "  File \"/home/ec2-user/anaconda3/envs/amazonei_tensorflow_p36/lib/python3.6/site-packages/zmq/eventloop/zmqstream.py\", line 432, in _run_callback\n",
      "    callback(*args, **kwargs)\n",
      "  File \"/home/ec2-user/anaconda3/envs/amazonei_tensorflow_p36/lib/python3.6/site-packages/tornado/stack_context.py\", line 276, in null_wrapper\n",
      "    return fn(*args, **kwargs)\n",
      "  File \"/home/ec2-user/anaconda3/envs/amazonei_tensorflow_p36/lib/python3.6/site-packages/ipykernel/kernelbase.py\", line 283, in dispatcher\n",
      "    return self.dispatch_shell(stream, msg)\n",
      "  File \"/home/ec2-user/anaconda3/envs/amazonei_tensorflow_p36/lib/python3.6/site-packages/ipykernel/kernelbase.py\", line 239, in dispatch_shell\n",
      "    sys.stdout.flush()\n",
      "ValueError: I/O operation on closed file.\n"
     ]
    }
   ],
   "source": [
    "deepRacer.configure_s3_bucket()\n",
    "        ## Configure the IAM role and ensure that the correct access priv are available\n",
    "deepRacer.create_iam_role()\n",
    "\n",
    "deepRacer.build_docker_container()\n",
    "\n",
    "deepRacer.configure_vpc()\n",
    "\n",
    "deepRacer.create_routing_tables()\n",
    "deepRacer.plot_training_output()\n"
   ]
  },
  {
   "cell_type": "code",
   "execution_count": null,
   "metadata": {},
   "outputs": [],
   "source": [
    "deep"
   ]
  }
 ],
 "metadata": {
  "anaconda-cloud": {},
  "kernelspec": {
   "display_name": "conda_amazonei_tensorflow_p36",
   "language": "python",
   "name": "conda_amazonei_tensorflow_p36"
  },
  "language_info": {
   "codemirror_mode": {
    "name": "ipython",
    "version": 3
   },
   "file_extension": ".py",
   "mimetype": "text/x-python",
   "name": "python",
   "nbconvert_exporter": "python",
   "pygments_lexer": "ipython3",
   "version": "3.6.5"
  }
 },
 "nbformat": 4,
 "nbformat_minor": 2
}
