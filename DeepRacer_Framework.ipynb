{
 "cells": [
  {
   "cell_type": "markdown",
   "metadata": {},
   "source": [
    "# Distributed DeepRacer RL training with SageMaker and RoboMaker\n",
    "\n",
    "---\n",
    "## Introduction\n",
    "\n",
    "\n",
    "In this notebook, we will train a fully autonomous 1/18th scale race car using reinforcement learning using Amazon SageMaker RL and AWS RoboMaker's 3D driving simulator. [AWS RoboMaker](https://console.aws.amazon.com/robomaker/home#welcome) is a service that makes it easy for developers to develop, test, and deploy robotics applications.  \n",
    "\n",
    "This notebook provides a jailbreak experience of [AWS DeepRacer](https://console.aws.amazon.com/deepracer/home#welcome), giving us more control over the training/simulation process and RL algorithm tuning.\n",
    "\n",
    "![Training in Action](./deepracer-reinvent-track.jpg)\n",
    "\n",
    "\n",
    "---\n",
    "## How it works?  \n",
    "\n",
    "![How training works](./training.png)\n",
    "\n",
    "The reinforcement learning agent (i.e. our autonomous car) learns to drive by interacting with its environment, e.g., the track, by taking an action in a given state to maximize the expected reward. The agent learns the optimal plan of actions in training by trial-and-error through repeated episodes.  \n",
    "  \n",
    "The figure above shows an example of distributed RL training across SageMaker and two RoboMaker simulation envrionments that perform the **rollouts** - execute a fixed number of episodes using the current model or policy. The rollouts collect agent experiences (state-transition tuples) and share this data with SageMaker for training. SageMaker updates the model policy which is then used to execute the next sequence of rollouts. This training loop continues until the model converges, i.e. the car learns to drive and stops going off-track. More formally, we can define the problem in terms of the following:  \n",
    "\n",
    "1. **Objective**: Learn to drive autonomously by staying close to the center of the track.\n",
    "2. **Environment**: A 3D driving simulator hosted on AWS RoboMaker.\n",
    "3. **State**: The driving POV image captured by the car's head camera, as shown in the illustration above.\n",
    "4. **Action**: Six discrete steering wheel positions at different angles (configurable)\n",
    "5. **Reward**: Positive reward for staying close to the center line; High penalty for going off-track. This is configurable and can be made more complex (for e.g. steering penalty can be added)."
   ]
  },
  {
   "cell_type": "markdown",
   "metadata": {},
   "source": [
    "### Imports"
   ]
  },
  {
   "cell_type": "markdown",
   "metadata": {},
   "source": [
    "To get started, we'll import the Python libraries we need, set up the environment with a few prerequisites for permissions and configurations.\n",
    "\n",
    "You can run this notebook from your local machine or from a SageMaker notebook instance. In both of these scenarios, you can run the following to launch a training job on SageMaker and a simulation job on RoboMaker."
   ]
  },
  {
   "cell_type": "code",
   "execution_count": 1,
   "metadata": {},
   "outputs": [],
   "source": [
    "from src.core.DeepRacerEngine import DeepRacerEngine"
   ]
  },
  {
   "cell_type": "markdown",
   "metadata": {},
   "source": [
    "## Scenario 1: Single Model Run and Evaluation\n",
    "\n",
    "For this scenario, we are going to run a single model, over a chosen track"
   ]
  },
  {
   "cell_type": "markdown",
   "metadata": {},
   "source": [
    "### Set Up Parameters\n",
    "There are two set of parameters we can configure:\n",
    " - The simulation parameters\n",
    " - The model hyperparameters"
   ]
  },
  {
   "cell_type": "markdown",
   "metadata": {},
   "source": [
    "#### View Default Simulation Parameters"
   ]
  },
  {
   "cell_type": "code",
   "execution_count": 2,
   "metadata": {},
   "outputs": [
    {
     "name": "stdout",
     "output_type": "stream",
     "text": [
      "\u001b[37m# Estimator Pamrs\u001b[39;49;00m\r\n",
      "entry_point = \u001b[33m\"\u001b[39;49;00m\u001b[33mtraining_worker.py\u001b[39;49;00m\u001b[33m\"\u001b[39;49;00m\r\n",
      "source_dir = \u001b[33m'\u001b[39;49;00m\u001b[33msrc\u001b[39;49;00m\u001b[33m'\u001b[39;49;00m\r\n",
      "\r\n",
      "\u001b[37m#Training Params\u001b[39;49;00m\r\n",
      "default_instance_type = \u001b[33m\"\u001b[39;49;00m\u001b[33mml.c4.2xlarge\u001b[39;49;00m\u001b[33m\"\u001b[39;49;00m \u001b[37m#For GPU use 'ml.p3.2xlarge'\u001b[39;49;00m\r\n",
      "default_instance_pool = \u001b[34m1\u001b[39;49;00m\r\n",
      "default_job_duration = \u001b[34m3600\u001b[39;49;00m\r\n",
      "default_hyperparam_preset = \u001b[33m'\u001b[39;49;00m\u001b[33msrc/markov/presets/preset_hyperparams.json\u001b[39;49;00m\u001b[33m'\u001b[39;49;00m\r\n",
      "tmp_hyperparam_preset = \u001b[33m'\u001b[39;49;00m\u001b[33msrc/markov/presets/preset_hyperparams_tmp.py\u001b[39;49;00m\u001b[33m'\u001b[39;49;00m\r\n",
      "\r\n",
      "\u001b[37m#Track Details:\u001b[39;49;00m\r\n",
      "default_track_name = \u001b[33m'\u001b[39;49;00m\u001b[33mreinvent_base\u001b[39;49;00m\u001b[33m'\u001b[39;49;00m\r\n",
      "track_name = [\u001b[33m'\u001b[39;49;00m\u001b[33mreinvent_base\u001b[39;49;00m\u001b[33m'\u001b[39;49;00m, \u001b[33m'\u001b[39;49;00m\u001b[33mreinvent_carpet\u001b[39;49;00m\u001b[33m'\u001b[39;49;00m, \u001b[33m'\u001b[39;49;00m\u001b[33mreinvent_concrete\u001b[39;49;00m\u001b[33m'\u001b[39;49;00m, \u001b[33m'\u001b[39;49;00m\u001b[33mreinvent_wood\u001b[39;49;00m\u001b[33m'\u001b[39;49;00m, \u001b[33m'\u001b[39;49;00m\u001b[33mAWS_track\u001b[39;49;00m\u001b[33m'\u001b[39;49;00m,\r\n",
      "              \u001b[33m'\u001b[39;49;00m\u001b[33mBowtie_track\u001b[39;49;00m\u001b[33m'\u001b[39;49;00m, \u001b[33m'\u001b[39;49;00m\u001b[33mOval_track\u001b[39;49;00m\u001b[33m'\u001b[39;49;00m,  \u001b[33m'\u001b[39;49;00m\u001b[33mStraight_track\u001b[39;49;00m\u001b[33m'\u001b[39;49;00m]\r\n",
      "\r\n",
      "\u001b[37m# Evaluation Trials\u001b[39;49;00m\r\n",
      "evaluation_trials = \u001b[34m5\u001b[39;49;00m\r\n",
      "\r\n",
      "\u001b[37m## Policy and Model Meta Data\u001b[39;49;00m\r\n",
      "envir_file_local = \u001b[33m'\u001b[39;49;00m\u001b[33msrc/markov/environments/deepracer_racetrack_env.py\u001b[39;49;00m\u001b[33m'\u001b[39;49;00m\r\n",
      "reward_file_local = \u001b[33m'\u001b[39;49;00m\u001b[33msrc/markov/rewards/complex_reward.py\u001b[39;49;00m\u001b[33m'\u001b[39;49;00m\r\n",
      "model_meta_file_local = \u001b[33m'\u001b[39;49;00m\u001b[33msrc/markov/actions/model_metadata_10_state.json\u001b[39;49;00m\u001b[33m'\u001b[39;49;00m\r\n",
      "presets_file_local = \u001b[33m'\u001b[39;49;00m\u001b[33msrc/markov/presets/preset_attention_layer.py\u001b[39;49;00m\u001b[33m'\u001b[39;49;00m\r\n"
     ]
    }
   ],
   "source": [
    "!pygmentize common/constant.py"
   ]
  },
  {
   "cell_type": "markdown",
   "metadata": {},
   "source": [
    "#### View Default Hypterparameters"
   ]
  },
  {
   "cell_type": "code",
   "execution_count": 3,
   "metadata": {},
   "outputs": [
    {
     "name": "stdout",
     "output_type": "stream",
     "text": [
      "{\r\n",
      "    \u001b[34;01m\"learning_rate\"\u001b[39;49;00m: \u001b[34m0.0003\u001b[39;49;00m,\r\n",
      "    \u001b[34;01m\"batch_size\"\u001b[39;49;00m : \u001b[34m64\u001b[39;49;00m,\r\n",
      "    \u001b[34;01m\"optimizer_epsilon\"\u001b[39;49;00m : \u001b[34m0.00001\u001b[39;49;00m,\r\n",
      "    \u001b[34;01m\"adam_optimizer_beta2\"\u001b[39;49;00m : \u001b[34m0.999\u001b[39;49;00m,\r\n",
      "    \u001b[34;01m\"clip_likelihood_ratio_using_epsilon\"\u001b[39;49;00m : \u001b[34m0.2\u001b[39;49;00m,\r\n",
      "    \u001b[34;01m\"beta_entropy\"\u001b[39;49;00m : \u001b[34m0.01\u001b[39;49;00m,\r\n",
      "    \u001b[34;01m\"gae_lambda\"\u001b[39;49;00m : \u001b[34m0.95\u001b[39;49;00m,\r\n",
      "    \u001b[34;01m\"discount\"\u001b[39;49;00m : \u001b[34m0.999\u001b[39;49;00m,\r\n",
      "    \u001b[34;01m\"optimization_epochs\"\u001b[39;49;00m : \u001b[34m10\u001b[39;49;00m\r\n",
      "}\r\n"
     ]
    }
   ],
   "source": [
    "!pygmentize src/markov/presets/preset_hyperparams.json"
   ]
  },
  {
   "cell_type": "markdown",
   "metadata": {},
   "source": [
    "#### Set Parameters"
   ]
  },
  {
   "cell_type": "code",
   "execution_count": 3,
   "metadata": {},
   "outputs": [],
   "source": [
    "#here we can set the params we want to use for our model runs\n",
    "params = {\n",
    "    'job_name': 'dr-test-abcdef',\n",
    "    'track_name':'reinvent_base',\n",
    "    'job_duration': 360,\n",
    "    'batch_size':64,\n",
    "    'evaluation_trials':5\n",
    "}"
   ]
  },
  {
   "cell_type": "markdown",
   "metadata": {},
   "source": [
    "#### Instantiate the DeepRacerEngine class, and provide the params"
   ]
  },
  {
   "cell_type": "code",
   "execution_count": 4,
   "metadata": {},
   "outputs": [
    {
     "name": "stdout",
     "output_type": "stream",
     "text": [
      "***Deep Racer Engine Backend***\n"
     ]
    }
   ],
   "source": [
    "deepRacer = DeepRacerEngine(params)"
   ]
  },
  {
   "cell_type": "markdown",
   "metadata": {},
   "source": [
    "#### Start Simulation Training "
   ]
  },
  {
   "cell_type": "code",
   "execution_count": 4,
   "metadata": {
    "scrolled": true
   },
   "outputs": [
    {
     "name": "stdout",
     "output_type": "stream",
     "text": [
      "********************************\n",
      "PERFORMING ALL DOCKER, VPC, AND ROUTING TABLE WORK....\n",
      "Using s3 bucket sagemaker-us-east-1-170991494985\n",
      "Model checkpoints and other metadata will be stored at: \n",
      "s3://sagemaker-us-east-1-170991494985/dr-test-abcde-sagemaker-191226-064455\n",
      "Using Sagemaker IAM role arn: \n",
      "arn:aws:iam::170991494985:role/service-role/AmazonSageMaker-ExecutionRole-20191119T175598\n",
      "Copying files from your notebook to existing sagemaker container\n",
      "docker images sagemaker-docker-cpu | sed -n 2,2p\n",
      "Sagemaker docker id : b809b41b4527\n",
      "docker run -d -t b809b41b4527\n",
      "docker exec -d 31890fcfebe6aa7207666455cbe7a6250e5c960c61101f3ecc700aea2ddc0ea8 rm -rf /opt/amazon/markov\n",
      "docker cp ./src/markov 31890fcfebe6aa7207666455cbe7a6250e5c960c61101f3ecc700aea2ddc0ea8:/opt/amazon/markov\n",
      "============ Copied Markov scripts to sagemaker docker ============ \n",
      " \n",
      "docker ps -l|sed -n 2,2p\n",
      "docker commit 31890fcfebe6 sagemaker-docker-cpu\n",
      "============ Commited all the changes to docker ============ \n",
      " \n",
      "Using the DeepRacer VPC stacks. This will be created if you run one training job from console.\n",
      "Using VPC: vpc-03f34e1d52556c4a0\n",
      "Using security group: ['sg-0b5a135c6d9dd4fe5']\n",
      "Using subnets: ['subnet-0c235b185de857b58', 'subnet-0bf0a2d87e239724f', 'subnet-098b2d42e516ddfa8', 'subnet-0eea622dd1a4d097c', 'subnet-0a0334c7a770c1b92', 'subnet-03e4c144f51d5211d']\n",
      "Creating Routing Tables\n",
      "Trying to attach S3 endpoints to the following route tables: ['rtb-0529a9c0f38db716c', 'rtb-0968d4b5d747e3261']\n",
      "S3 endpoint already exists.\n",
      "dr-test-abcde-sagemaker-191226-064455\n",
      "Cleaning Up Tmp HyperParam file\n",
      "Training job: dr-test-abcde-2019-12-26-06-44-57-364\n",
      "Created kinesis video stream dr-kvs-dr-test-abcde-2019-12-26-06-44-57-364\n",
      "{'ResponseMetadata': {'RequestId': 'fe7f46c8-f662-2409-a801-1fe15ed81896', 'HTTPStatusCode': 200, 'HTTPHeaders': {'x-amzn-requestid': 'fe7f46c8-f662-2409-a801-1fe15ed81896', 'x-amz-id-2': 'WrQspRgxHyvNCW6K0okRi9dYCWOj//tOFD24DQ7hMlckgXfaYUJTiXnIMXX6Z0sBcodssSzvgyMFkpGZ7wpHFcg7nnUPD4Mo', 'date': 'Thu, 26 Dec 2019 06:44:57 GMT', 'content-type': 'application/x-amz-json-1.1', 'content-length': '0'}, 'RetryAttempts': 0}}\n",
      "Using the latest simapp from public s3 bucket\n",
      "App Name: deepracer-notebook-application191226-064527\n",
      "Created a new simulation app with ARN: arn:aws:robomaker:us-east-1:170991494985:simulation-application/deepracer-notebook-application191226-064527/1577342727242\n",
      "Created the following jobs:\n",
      "Job ARN arn:aws:robomaker:us-east-1:170991494985:simulation-job/sim-z793vf70d13h\n"
     ]
    }
   ],
   "source": [
    "deepRacer.start_training_testing_process()"
   ]
  },
  {
   "cell_type": "markdown",
   "metadata": {},
   "source": [
    "#### Plot Training Process"
   ]
  },
  {
   "cell_type": "code",
   "execution_count": 8,
   "metadata": {},
   "outputs": [
    {
     "data": {
      "image/png": "[encoded data removed]",
      "text/plain": [
       "<Figure size 1080x432 with 2 Axes>"
      ]
     },
     "metadata": {},
     "output_type": "display_data"
    }
   ],
   "source": [
    "deepRacer.plot_training_output()"
   ]
  },
  {
   "cell_type": "markdown",
   "metadata": {},
   "source": [
    "#### Start Evaluation Proces\n"
   ]
  },
  {
   "cell_type": "code",
   "execution_count": 9,
   "metadata": {},
   "outputs": [
    {
     "name": "stdout",
     "output_type": "stream",
     "text": [
      "Job ARN arn:aws:robomaker:us-east-1:170991494985:simulation-job/sim-52mrjbv1zpj3\n"
     ]
    }
   ],
   "source": [
    "deepRacer.start_evaluation_process()"
   ]
  },
  {
   "cell_type": "markdown",
   "metadata": {},
   "source": [
    "#### Plot Evaluation Process"
   ]
  },
  {
   "cell_type": "code",
   "execution_count": null,
   "metadata": {},
   "outputs": [
    {
     "name": "stdout",
     "output_type": "stream",
     "text": [
      "Waiting for s3://sagemaker-us-east-1-170991494985/dr-test-abcd-sagemaker-191226-035143/evaluation_metrics.json......."
     ]
    }
   ],
   "source": [
    "deepRacer.plot_evaluation_output()"
   ]
  },
  {
   "cell_type": "markdown",
   "metadata": {},
   "source": [
    "===================="
   ]
  },
  {
   "cell_type": "markdown",
   "metadata": {},
   "source": [
    "## Scenario 2: Multi-Model Training with different HyperParameters and Evaluation\n",
    "\n",
    "For this scenario, we are going to train multiple models, with different hyperparameters, and view the training and evaluation in parallel."
   ]
  },
  {
   "cell_type": "code",
   "execution_count": 5,
   "metadata": {},
   "outputs": [
    {
     "name": "stdout",
     "output_type": "stream",
     "text": [
      "***Deep Racer Engine Backend***\n"
     ]
    }
   ],
   "source": [
    "# Instantiate the DeepRacerEngine, the Jb named specified here will not be used for the Simulation Job Names\n",
    "deepRacer = DeepRacerEngine({'job_name':'None'})"
   ]
  },
  {
   "cell_type": "markdown",
   "metadata": {},
   "source": [
    "#### Hyperparameter Generation\n",
    "\n",
    "In this example we're going to generate some changes to the hyperparameters. Typically when conducting experiments with varible chances, only one variable is adjusted at a time, in order to allow for measurable changes (controlled experiment). If multiple variables are changed, then it is difficult to determine the impact to the hypothesis."
   ]
  },
  {
   "cell_type": "code",
   "execution_count": 7,
   "metadata": {},
   "outputs": [
    {
     "name": "stdout",
     "output_type": "stream",
     "text": [
      "[64, 128, 256]\n",
      "3 Hyperparameter configs generated\n"
     ]
    }
   ],
   "source": [
    "model_params = deepRacer.param_gen_batch_sizes(max_batch = 256, job_name_prefix='multitests')"
   ]
  },
  {
   "cell_type": "markdown",
   "metadata": {},
   "source": [
    "#### Start Model Simulation Jobs"
   ]
  },
  {
   "cell_type": "code",
   "execution_count": 8,
   "metadata": {
    "scrolled": true
   },
   "outputs": [
    {
     "name": "stdout",
     "output_type": "stream",
     "text": [
      "***Deep Racer Engine Backend***\n",
      "********************************\n",
      "PERFORMING ALL DOCKER, VPC, AND ROUTING TABLE WORK....\n",
      "Using s3 bucket sagemaker-us-east-1-170991494985\n",
      "Model checkpoints and other metadata will be stored at: \n",
      "s3://sagemaker-us-east-1-170991494985/multitests-batchsize-64-sagemaker-191226-081250\n",
      "Using Sagemaker IAM role arn: \n",
      "arn:aws:iam::170991494985:role/service-role/AmazonSageMaker-ExecutionRole-20191119T175598\n",
      "Copying files from your notebook to existing sagemaker container\n",
      "docker images sagemaker-docker-cpu | sed -n 2,2p\n",
      "Sagemaker docker id : 2697190b4a95\n",
      "docker run -d -t 2697190b4a95\n",
      "docker exec -d cefb38cacf0c9628b4b6fc786d60484d58c3793cf93a74852e66dfbcfe2b5cd3 rm -rf /opt/amazon/markov\n",
      "docker cp ./src/markov cefb38cacf0c9628b4b6fc786d60484d58c3793cf93a74852e66dfbcfe2b5cd3:/opt/amazon/markov\n",
      "============ Copied Markov scripts to sagemaker docker ============ \n",
      " \n",
      "docker ps -l|sed -n 2,2p\n",
      "docker commit cefb38cacf0c sagemaker-docker-cpu\n",
      "============ Commited all the changes to docker ============ \n",
      " \n",
      "Using the DeepRacer VPC stacks. This will be created if you run one training job from console.\n",
      "Using VPC: vpc-03f34e1d52556c4a0\n",
      "Using security group: ['sg-0b5a135c6d9dd4fe5']\n",
      "Using subnets: ['subnet-0c235b185de857b58', 'subnet-0bf0a2d87e239724f', 'subnet-098b2d42e516ddfa8', 'subnet-0eea622dd1a4d097c', 'subnet-0a0334c7a770c1b92', 'subnet-03e4c144f51d5211d']\n",
      "Creating Routing Tables\n",
      "Trying to attach S3 endpoints to the following route tables: ['rtb-0529a9c0f38db716c', 'rtb-0968d4b5d747e3261']\n",
      "S3 endpoint already exists.\n",
      "multitests-batchsize-64-sagemaker-191226-081250\n",
      "Cleaning Up Tmp HyperParam file\n",
      "Training job: multitests-batchsize-64-2019-12-26-08-12-52-821\n"
     ]
    },
    {
     "ename": "LimitExceededException",
     "evalue": "An error occurred (LimitExceededException) when calling the CreateStream operation (reached max retries: 4): This request would exceed the shard limit for the account 170991494985 in us-east-1. Current shard count for the account: 500. Limit: 500. Number of additional shards that would have resulted from this request: 10. Refer to the AWS Service Limits page (http://docs.aws.amazon.com/general/latest/gr/aws_service_limits.html) for current limits and how to request higher limits.",
     "output_type": "error",
     "traceback": [
      "\u001b[0;31m---------------------------------------------------------------------------\u001b[0m",
      "\u001b[0;31mLimitExceededException\u001b[0m                    Traceback (most recent call last)",
      "\u001b[0;32m<ipython-input-8-7490fe2b7709>\u001b[0m in \u001b[0;36m<module>\u001b[0;34m()\u001b[0m\n\u001b[0;32m----> 1\u001b[0;31m \u001b[0mdrs\u001b[0m \u001b[0;34m=\u001b[0m \u001b[0mdeepRacer\u001b[0m\u001b[0;34m.\u001b[0m\u001b[0mstart_multi_model_simulations\u001b[0m\u001b[0;34m(\u001b[0m\u001b[0mmodel_params\u001b[0m\u001b[0;34m)\u001b[0m\u001b[0;34m\u001b[0m\u001b[0m\n\u001b[0m",
      "\u001b[0;32m~/SageMaker/DeepRacer-Jupyter/src/core/DeepRacerEngine.py\u001b[0m in \u001b[0;36mstart_multi_model_simulations\u001b[0;34m(self, params)\u001b[0m\n\u001b[1;32m    825\u001b[0m             \u001b[0;31m#let's create a DeepRacerEngine instance and kick things off\u001b[0m\u001b[0;34m\u001b[0m\u001b[0;34m\u001b[0m\u001b[0m\n\u001b[1;32m    826\u001b[0m             \u001b[0mdr\u001b[0m \u001b[0;34m=\u001b[0m \u001b[0mDeepRacerEngine\u001b[0m\u001b[0;34m(\u001b[0m\u001b[0mparam\u001b[0m\u001b[0;34m)\u001b[0m\u001b[0;34m\u001b[0m\u001b[0m\n\u001b[0;32m--> 827\u001b[0;31m             \u001b[0mdr\u001b[0m\u001b[0;34m.\u001b[0m\u001b[0mstart_training_testing_process\u001b[0m\u001b[0;34m(\u001b[0m\u001b[0;34m)\u001b[0m\u001b[0;34m\u001b[0m\u001b[0m\n\u001b[0m\u001b[1;32m    828\u001b[0m             \u001b[0mdrs\u001b[0m\u001b[0;34m[\u001b[0m\u001b[0mparam\u001b[0m\u001b[0;34m[\u001b[0m\u001b[0;34m'job_name'\u001b[0m\u001b[0;34m]\u001b[0m\u001b[0;34m]\u001b[0m \u001b[0;34m=\u001b[0m \u001b[0mdr\u001b[0m\u001b[0;34m\u001b[0m\u001b[0m\n\u001b[1;32m    829\u001b[0m             \u001b[0mtime\u001b[0m\u001b[0;34m.\u001b[0m\u001b[0msleep\u001b[0m\u001b[0;34m(\u001b[0m\u001b[0;36m5\u001b[0m\u001b[0;34m)\u001b[0m\u001b[0;34m\u001b[0m\u001b[0m\n",
      "\u001b[0;32m~/SageMaker/DeepRacer-Jupyter/src/core/DeepRacerEngine.py\u001b[0m in \u001b[0;36mstart_training_testing_process\u001b[0;34m(self)\u001b[0m\n\u001b[1;32m    268\u001b[0m         \u001b[0mself\u001b[0m\u001b[0;34m.\u001b[0m\u001b[0mconfigure_estimator\u001b[0m\u001b[0;34m(\u001b[0m\u001b[0;34m)\u001b[0m\u001b[0;34m\u001b[0m\u001b[0m\n\u001b[1;32m    269\u001b[0m \u001b[0;34m\u001b[0m\u001b[0m\n\u001b[0;32m--> 270\u001b[0;31m         \u001b[0mself\u001b[0m\u001b[0;34m.\u001b[0m\u001b[0mconfigure_kinesis_stream\u001b[0m\u001b[0;34m(\u001b[0m\u001b[0;34m)\u001b[0m\u001b[0;34m\u001b[0m\u001b[0m\n\u001b[0m\u001b[1;32m    271\u001b[0m \u001b[0;34m\u001b[0m\u001b[0m\n\u001b[1;32m    272\u001b[0m         \u001b[0mself\u001b[0m\u001b[0;34m.\u001b[0m\u001b[0mstart_robo_maker\u001b[0m\u001b[0;34m(\u001b[0m\u001b[0;34m)\u001b[0m\u001b[0;34m\u001b[0m\u001b[0m\n",
      "\u001b[0;32m~/SageMaker/DeepRacer-Jupyter/src/core/DeepRacerEngine.py\u001b[0m in \u001b[0;36mconfigure_kinesis_stream\u001b[0;34m(self)\u001b[0m\n\u001b[1;32m    509\u001b[0m         res = self.kinesis.create_stream(\n\u001b[1;32m    510\u001b[0m             \u001b[0mStreamName\u001b[0m\u001b[0;34m=\u001b[0m\u001b[0mself\u001b[0m\u001b[0;34m.\u001b[0m\u001b[0mkvs_stream_name\u001b[0m\u001b[0;34m,\u001b[0m\u001b[0;34m\u001b[0m\u001b[0m\n\u001b[0;32m--> 511\u001b[0;31m             ShardCount = 10)\n\u001b[0m\u001b[1;32m    512\u001b[0m \u001b[0;34m\u001b[0m\u001b[0m\n\u001b[1;32m    513\u001b[0m         \u001b[0;31m# !aws --region {aws_region} kinesisvideo create-stream --stream-name {kvs_stream_name} --media-type video/h264 --data-retention-in-hours 24\u001b[0m\u001b[0;34m\u001b[0m\u001b[0;34m\u001b[0m\u001b[0m\n",
      "\u001b[0;32m~/anaconda3/envs/amazonei_tensorflow_p36/lib/python3.6/site-packages/botocore/client.py\u001b[0m in \u001b[0;36m_api_call\u001b[0;34m(self, *args, **kwargs)\u001b[0m\n\u001b[1;32m    355\u001b[0m                     \"%s() only accepts keyword arguments.\" % py_operation_name)\n\u001b[1;32m    356\u001b[0m             \u001b[0;31m# The \"self\" in this scope is referring to the BaseClient.\u001b[0m\u001b[0;34m\u001b[0m\u001b[0;34m\u001b[0m\u001b[0m\n\u001b[0;32m--> 357\u001b[0;31m             \u001b[0;32mreturn\u001b[0m \u001b[0mself\u001b[0m\u001b[0;34m.\u001b[0m\u001b[0m_make_api_call\u001b[0m\u001b[0;34m(\u001b[0m\u001b[0moperation_name\u001b[0m\u001b[0;34m,\u001b[0m \u001b[0mkwargs\u001b[0m\u001b[0;34m)\u001b[0m\u001b[0;34m\u001b[0m\u001b[0m\n\u001b[0m\u001b[1;32m    358\u001b[0m \u001b[0;34m\u001b[0m\u001b[0m\n\u001b[1;32m    359\u001b[0m         \u001b[0m_api_call\u001b[0m\u001b[0;34m.\u001b[0m\u001b[0m__name__\u001b[0m \u001b[0;34m=\u001b[0m \u001b[0mstr\u001b[0m\u001b[0;34m(\u001b[0m\u001b[0mpy_operation_name\u001b[0m\u001b[0;34m)\u001b[0m\u001b[0;34m\u001b[0m\u001b[0m\n",
      "\u001b[0;32m~/anaconda3/envs/amazonei_tensorflow_p36/lib/python3.6/site-packages/botocore/client.py\u001b[0m in \u001b[0;36m_make_api_call\u001b[0;34m(self, operation_name, api_params)\u001b[0m\n\u001b[1;32m    659\u001b[0m             \u001b[0merror_code\u001b[0m \u001b[0;34m=\u001b[0m \u001b[0mparsed_response\u001b[0m\u001b[0;34m.\u001b[0m\u001b[0mget\u001b[0m\u001b[0;34m(\u001b[0m\u001b[0;34m\"Error\"\u001b[0m\u001b[0;34m,\u001b[0m \u001b[0;34m{\u001b[0m\u001b[0;34m}\u001b[0m\u001b[0;34m)\u001b[0m\u001b[0;34m.\u001b[0m\u001b[0mget\u001b[0m\u001b[0;34m(\u001b[0m\u001b[0;34m\"Code\"\u001b[0m\u001b[0;34m)\u001b[0m\u001b[0;34m\u001b[0m\u001b[0m\n\u001b[1;32m    660\u001b[0m             \u001b[0merror_class\u001b[0m \u001b[0;34m=\u001b[0m \u001b[0mself\u001b[0m\u001b[0;34m.\u001b[0m\u001b[0mexceptions\u001b[0m\u001b[0;34m.\u001b[0m\u001b[0mfrom_code\u001b[0m\u001b[0;34m(\u001b[0m\u001b[0merror_code\u001b[0m\u001b[0;34m)\u001b[0m\u001b[0;34m\u001b[0m\u001b[0m\n\u001b[0;32m--> 661\u001b[0;31m             \u001b[0;32mraise\u001b[0m \u001b[0merror_class\u001b[0m\u001b[0;34m(\u001b[0m\u001b[0mparsed_response\u001b[0m\u001b[0;34m,\u001b[0m \u001b[0moperation_name\u001b[0m\u001b[0;34m)\u001b[0m\u001b[0;34m\u001b[0m\u001b[0m\n\u001b[0m\u001b[1;32m    662\u001b[0m         \u001b[0;32melse\u001b[0m\u001b[0;34m:\u001b[0m\u001b[0;34m\u001b[0m\u001b[0m\n\u001b[1;32m    663\u001b[0m             \u001b[0;32mreturn\u001b[0m \u001b[0mparsed_response\u001b[0m\u001b[0;34m\u001b[0m\u001b[0m\n",
      "\u001b[0;31mLimitExceededException\u001b[0m: An error occurred (LimitExceededException) when calling the CreateStream operation (reached max retries: 4): This request would exceed the shard limit for the account 170991494985 in us-east-1. Current shard count for the account: 500. Limit: 500. Number of additional shards that would have resulted from this request: 10. Refer to the AWS Service Limits page (http://docs.aws.amazon.com/general/latest/gr/aws_service_limits.html) for current limits and how to request higher limits."
     ]
    }
   ],
   "source": [
    "drs = deepRacer.start_multi_model_simulations(model_params)   "
   ]
  },
  {
   "cell_type": "markdown",
   "metadata": {},
   "source": [
    "#### Plot Parallel Training Jobs"
   ]
  },
  {
   "cell_type": "code",
   "execution_count": 1,
   "metadata": {},
   "outputs": [
    {
     "ename": "NameError",
     "evalue": "name 'drs' is not defined",
     "output_type": "error",
     "traceback": [
      "\u001b[0;31m---------------------------------------------------------------------------\u001b[0m",
      "\u001b[0;31mNameError\u001b[0m                                 Traceback (most recent call last)",
      "\u001b[0;32m<ipython-input-1-12c07dc28e2f>\u001b[0m in \u001b[0;36m<module>\u001b[0;34m()\u001b[0m\n\u001b[1;32m     69\u001b[0m \u001b[0;34m\u001b[0m\u001b[0m\n\u001b[1;32m     70\u001b[0m \u001b[0;34m\u001b[0m\u001b[0m\n\u001b[0;32m---> 71\u001b[0;31m \u001b[0mplot_multi_model_runs_output\u001b[0m\u001b[0;34m(\u001b[0m\u001b[0mdrs\u001b[0m\u001b[0;34m)\u001b[0m\u001b[0;34m\u001b[0m\u001b[0m\n\u001b[0m",
      "\u001b[0;31mNameError\u001b[0m: name 'drs' is not defined"
     ]
    }
   ],
   "source": [
    "deepRacer.plot_multi_model_runs_output(drs)"
   ]
  },
  {
   "cell_type": "markdown",
   "metadata": {},
   "source": [
    "#### Evaluate Multiple Training Jobs"
   ]
  },
  {
   "cell_type": "code",
   "execution_count": null,
   "metadata": {},
   "outputs": [],
   "source": [
    "deepRacer.multi_model_evaluation(drs)"
   ]
  },
  {
   "cell_type": "markdown",
   "metadata": {},
   "source": [
    "===================="
   ]
  },
  {
   "cell_type": "markdown",
   "metadata": {},
   "source": [
    "## Scenario 3: Multi-Model Training with different Race Tracks\n",
    "\n",
    "For this scenario, we are going to train multiple models, with different hyperparameters, and view the training and evaluation in parallel."
   ]
  },
  {
   "cell_type": "code",
   "execution_count": 2,
   "metadata": {},
   "outputs": [
    {
     "name": "stdout",
     "output_type": "stream",
     "text": [
      "***Deep Racer Engine Backend***\n"
     ]
    }
   ],
   "source": [
    "# Instantiate the DeepRacerEngine, the Jb named specified here will not be used for the Simulation Job Names\n",
    "deepRacer = DeepRacerEngine({'job_name':'None'})"
   ]
  },
  {
   "cell_type": "markdown",
   "metadata": {},
   "source": [
    "#### Hyperparameter Generation\n",
    "\n",
    "In this example we're going to generate some changes to the hyperparameters, namely the track parameter.\n",
    "\n",
    "In order to do this we will need to create a list of tracks which we wish to test our model on, and then run model simulations for each of the models listed. "
   ]
  },
  {
   "cell_type": "code",
   "execution_count": 3,
   "metadata": {},
   "outputs": [
    {
     "name": "stdout",
     "output_type": "stream",
     "text": [
      "['reinvent_base', 'Oval_track', 'Bowtie_track']\n",
      "3 Hyperparameter configs generated\n"
     ]
    }
   ],
   "source": [
    "#tracks to train on\n",
    "tracks = ['reinvent_base', 'Oval_track', 'Bowtie_track']\n",
    "model_params = deepRacer.param_gen_tracks(job_name_prefix='tracks',\n",
    "                               track_names=tracks ) "
   ]
  },
  {
   "cell_type": "markdown",
   "metadata": {},
   "source": [
    "#### Start Model Simulation Jobs"
   ]
  },
  {
   "cell_type": "code",
   "execution_count": 4,
   "metadata": {
    "scrolled": true
   },
   "outputs": [
    {
     "name": "stdout",
     "output_type": "stream",
     "text": [
      "***Deep Racer Engine Backend***\n",
      "********************************\n",
      "PERFORMING ALL DOCKER, VPC, AND ROUTING TABLE WORK....\n",
      "Using s3 bucket sagemaker-us-east-1-170991494985\n",
      "Model checkpoints and other metadata will be stored at: \n",
      "s3://sagemaker-us-east-1-170991494985/tracks-track-reinvent-base-sagemaker-191226-084544\n",
      "Using Sagemaker IAM role arn: \n",
      "arn:aws:iam::170991494985:role/service-role/AmazonSageMaker-ExecutionRole-20191119T175598\n",
      "Copying files from your notebook to existing sagemaker container\n",
      "docker images sagemaker-docker-cpu | sed -n 2,2p\n",
      "Sagemaker docker id : 17c6f5c52a40\n",
      "docker run -d -t 17c6f5c52a40\n",
      "docker exec -d abb7061f6719cf41954af166ca070daf3418abebd485abc6e873f9212e0f018d rm -rf /opt/amazon/markov\n",
      "docker cp ./src/markov abb7061f6719cf41954af166ca070daf3418abebd485abc6e873f9212e0f018d:/opt/amazon/markov\n",
      "============ Copied Markov scripts to sagemaker docker ============ \n",
      " \n",
      "docker ps -l|sed -n 2,2p\n",
      "docker commit abb7061f6719 sagemaker-docker-cpu\n",
      "============ Commited all the changes to docker ============ \n",
      " \n",
      "Using the DeepRacer VPC stacks. This will be created if you run one training job from console.\n",
      "Using VPC: vpc-03f34e1d52556c4a0\n",
      "Using security group: ['sg-0b5a135c6d9dd4fe5']\n",
      "Using subnets: ['subnet-0c235b185de857b58', 'subnet-0bf0a2d87e239724f', 'subnet-098b2d42e516ddfa8', 'subnet-0eea622dd1a4d097c', 'subnet-0a0334c7a770c1b92', 'subnet-03e4c144f51d5211d']\n",
      "Creating Routing Tables\n",
      "Trying to attach S3 endpoints to the following route tables: ['rtb-0529a9c0f38db716c', 'rtb-0968d4b5d747e3261']\n",
      "S3 endpoint already exists.\n",
      "tracks-track-reinvent-base-sagemaker-191226-084544\n",
      "Cleaning Up Tmp HyperParam file\n",
      "Training job: tracks-track-reinvent-base-2019-12-26-08-45-46-437\n",
      "Created kinesis video stream dr-kvs-tracks-track-reinvent-base-2019-12-26-08-45-46-437\n",
      "App Name: deepracer-notebook-application191226-084546\n",
      "Created a new simulation app with ARN: arn:aws:robomaker:us-east-1:170991494985:simulation-application/deepracer-notebook-application191226-084546/1577349947124\n",
      "Created the following jobs:\n",
      "Job ARN arn:aws:robomaker:us-east-1:170991494985:simulation-job/sim-71mhbsv8s3tv\n",
      "***Deep Racer Engine Backend***\n",
      "********************************\n",
      "PERFORMING ALL DOCKER, VPC, AND ROUTING TABLE WORK....\n",
      "Using s3 bucket sagemaker-us-east-1-170991494985\n",
      "Model checkpoints and other metadata will be stored at: \n",
      "s3://sagemaker-us-east-1-170991494985/tracks-track-Oval-track-sagemaker-191226-084553\n",
      "Using Sagemaker IAM role arn: \n",
      "arn:aws:iam::170991494985:role/service-role/AmazonSageMaker-ExecutionRole-20191119T175598\n",
      "Copying files from your notebook to existing sagemaker container\n",
      "docker images sagemaker-docker-cpu | sed -n 2,2p\n",
      "Sagemaker docker id : b215d1c18ccc\n",
      "docker run -d -t b215d1c18ccc\n",
      "docker exec -d e2889ef71fe9b5877ba1051621faca6978bc7d231748cbaec6c5403a692a2a02 rm -rf /opt/amazon/markov\n",
      "docker cp ./src/markov e2889ef71fe9b5877ba1051621faca6978bc7d231748cbaec6c5403a692a2a02:/opt/amazon/markov\n",
      "============ Copied Markov scripts to sagemaker docker ============ \n",
      " \n",
      "docker ps -l|sed -n 2,2p\n",
      "docker commit e2889ef71fe9 sagemaker-docker-cpu\n",
      "============ Commited all the changes to docker ============ \n",
      " \n",
      "Using the DeepRacer VPC stacks. This will be created if you run one training job from console.\n",
      "Using VPC: vpc-03f34e1d52556c4a0\n",
      "Using security group: ['sg-0b5a135c6d9dd4fe5']\n",
      "Using subnets: ['subnet-0c235b185de857b58', 'subnet-0bf0a2d87e239724f', 'subnet-098b2d42e516ddfa8', 'subnet-0eea622dd1a4d097c', 'subnet-0a0334c7a770c1b92', 'subnet-03e4c144f51d5211d']\n",
      "Creating Routing Tables\n",
      "Trying to attach S3 endpoints to the following route tables: ['rtb-0529a9c0f38db716c', 'rtb-0968d4b5d747e3261']\n",
      "S3 endpoint already exists.\n",
      "tracks-track-Oval-track-sagemaker-191226-084553\n",
      "Cleaning Up Tmp HyperParam file\n"
     ]
    },
    {
     "ename": "ResourceLimitExceeded",
     "evalue": "An error occurred (ResourceLimitExceeded) when calling the CreateTrainingJob operation: The account-level service limit 'ml.c5.xlarge for training job usage' is 4 Instances, with current utilization of 4 Instances and a request delta of 1 Instances. Please contact AWS support to request an increase for this limit.",
     "output_type": "error",
     "traceback": [
      "\u001b[0;31m---------------------------------------------------------------------------\u001b[0m",
      "\u001b[0;31mResourceLimitExceeded\u001b[0m                     Traceback (most recent call last)",
      "\u001b[0;32m<ipython-input-4-7490fe2b7709>\u001b[0m in \u001b[0;36m<module>\u001b[0;34m()\u001b[0m\n\u001b[0;32m----> 1\u001b[0;31m \u001b[0mdrs\u001b[0m \u001b[0;34m=\u001b[0m \u001b[0mdeepRacer\u001b[0m\u001b[0;34m.\u001b[0m\u001b[0mstart_multi_model_simulations\u001b[0m\u001b[0;34m(\u001b[0m\u001b[0mmodel_params\u001b[0m\u001b[0;34m)\u001b[0m\u001b[0;34m\u001b[0m\u001b[0m\n\u001b[0m",
      "\u001b[0;32m~/SageMaker/DeepRacer-Jupyter/src/core/DeepRacerEngine.py\u001b[0m in \u001b[0;36mstart_multi_model_simulations\u001b[0;34m(self, params)\u001b[0m\n\u001b[1;32m    857\u001b[0m             \u001b[0;31m#let's create a DeepRacerEngine instance and kick things off\u001b[0m\u001b[0;34m\u001b[0m\u001b[0;34m\u001b[0m\u001b[0m\n\u001b[1;32m    858\u001b[0m             \u001b[0mdr\u001b[0m \u001b[0;34m=\u001b[0m \u001b[0mDeepRacerEngine\u001b[0m\u001b[0;34m(\u001b[0m\u001b[0mparam\u001b[0m\u001b[0;34m)\u001b[0m\u001b[0;34m\u001b[0m\u001b[0m\n\u001b[0;32m--> 859\u001b[0;31m             \u001b[0mdr\u001b[0m\u001b[0;34m.\u001b[0m\u001b[0mstart_training_testing_process\u001b[0m\u001b[0;34m(\u001b[0m\u001b[0;34m)\u001b[0m\u001b[0;34m\u001b[0m\u001b[0m\n\u001b[0m\u001b[1;32m    860\u001b[0m             \u001b[0mdrs\u001b[0m\u001b[0;34m[\u001b[0m\u001b[0mparam\u001b[0m\u001b[0;34m[\u001b[0m\u001b[0;34m'job_name'\u001b[0m\u001b[0;34m]\u001b[0m\u001b[0;34m]\u001b[0m \u001b[0;34m=\u001b[0m \u001b[0mdr\u001b[0m\u001b[0;34m\u001b[0m\u001b[0m\n\u001b[1;32m    861\u001b[0m             \u001b[0mtime\u001b[0m\u001b[0;34m.\u001b[0m\u001b[0msleep\u001b[0m\u001b[0;34m(\u001b[0m\u001b[0;36m5\u001b[0m\u001b[0;34m)\u001b[0m\u001b[0;34m\u001b[0m\u001b[0m\n",
      "\u001b[0;32m~/SageMaker/DeepRacer-Jupyter/src/core/DeepRacerEngine.py\u001b[0m in \u001b[0;36mstart_training_testing_process\u001b[0;34m(self)\u001b[0m\n\u001b[1;32m    266\u001b[0m         \u001b[0mself\u001b[0m\u001b[0;34m.\u001b[0m\u001b[0mconfigure_metrics\u001b[0m\u001b[0;34m(\u001b[0m\u001b[0;34m)\u001b[0m\u001b[0;34m\u001b[0m\u001b[0m\n\u001b[1;32m    267\u001b[0m \u001b[0;34m\u001b[0m\u001b[0m\n\u001b[0;32m--> 268\u001b[0;31m         \u001b[0mself\u001b[0m\u001b[0;34m.\u001b[0m\u001b[0mconfigure_estimator\u001b[0m\u001b[0;34m(\u001b[0m\u001b[0;34m)\u001b[0m\u001b[0;34m\u001b[0m\u001b[0m\n\u001b[0m\u001b[1;32m    269\u001b[0m \u001b[0;34m\u001b[0m\u001b[0m\n\u001b[1;32m    270\u001b[0m         \u001b[0mself\u001b[0m\u001b[0;34m.\u001b[0m\u001b[0mconfigure_kinesis_stream\u001b[0m\u001b[0;34m(\u001b[0m\u001b[0;34m)\u001b[0m\u001b[0;34m\u001b[0m\u001b[0m\n",
      "\u001b[0;32m~/SageMaker/DeepRacer-Jupyter/src/core/DeepRacerEngine.py\u001b[0m in \u001b[0;36mconfigure_estimator\u001b[0;34m(self)\u001b[0m\n\u001b[1;32m    498\u001b[0m                                      )\n\u001b[1;32m    499\u001b[0m \u001b[0;34m\u001b[0m\u001b[0m\n\u001b[0;32m--> 500\u001b[0;31m         \u001b[0mself\u001b[0m\u001b[0;34m.\u001b[0m\u001b[0mestimator\u001b[0m\u001b[0;34m.\u001b[0m\u001b[0mfit\u001b[0m\u001b[0;34m(\u001b[0m\u001b[0mwait\u001b[0m\u001b[0;34m=\u001b[0m\u001b[0;32mFalse\u001b[0m\u001b[0;34m)\u001b[0m\u001b[0;34m\u001b[0m\u001b[0m\n\u001b[0m\u001b[1;32m    501\u001b[0m         \u001b[0mself\u001b[0m\u001b[0;34m.\u001b[0m\u001b[0mjob_name\u001b[0m \u001b[0;34m=\u001b[0m \u001b[0mself\u001b[0m\u001b[0;34m.\u001b[0m\u001b[0mestimator\u001b[0m\u001b[0;34m.\u001b[0m\u001b[0mlatest_training_job\u001b[0m\u001b[0;34m.\u001b[0m\u001b[0mjob_name\u001b[0m\u001b[0;34m\u001b[0m\u001b[0m\n\u001b[1;32m    502\u001b[0m         \u001b[0mprint\u001b[0m\u001b[0;34m(\u001b[0m\u001b[0;34m\"Training job: %s\"\u001b[0m \u001b[0;34m%\u001b[0m \u001b[0mself\u001b[0m\u001b[0;34m.\u001b[0m\u001b[0mjob_name\u001b[0m\u001b[0;34m)\u001b[0m\u001b[0;34m\u001b[0m\u001b[0m\n",
      "\u001b[0;32m~/anaconda3/envs/amazonei_tensorflow_p36/lib/python3.6/site-packages/sagemaker/estimator.py\u001b[0m in \u001b[0;36mfit\u001b[0;34m(self, inputs, wait, logs, job_name, experiment_config)\u001b[0m\n\u001b[1;32m    459\u001b[0m         \u001b[0mself\u001b[0m\u001b[0;34m.\u001b[0m\u001b[0m_prepare_for_training\u001b[0m\u001b[0;34m(\u001b[0m\u001b[0mjob_name\u001b[0m\u001b[0;34m=\u001b[0m\u001b[0mjob_name\u001b[0m\u001b[0;34m)\u001b[0m\u001b[0;34m\u001b[0m\u001b[0m\n\u001b[1;32m    460\u001b[0m \u001b[0;34m\u001b[0m\u001b[0m\n\u001b[0;32m--> 461\u001b[0;31m         \u001b[0mself\u001b[0m\u001b[0;34m.\u001b[0m\u001b[0mlatest_training_job\u001b[0m \u001b[0;34m=\u001b[0m \u001b[0m_TrainingJob\u001b[0m\u001b[0;34m.\u001b[0m\u001b[0mstart_new\u001b[0m\u001b[0;34m(\u001b[0m\u001b[0mself\u001b[0m\u001b[0;34m,\u001b[0m \u001b[0minputs\u001b[0m\u001b[0;34m,\u001b[0m \u001b[0mexperiment_config\u001b[0m\u001b[0;34m)\u001b[0m\u001b[0;34m\u001b[0m\u001b[0m\n\u001b[0m\u001b[1;32m    462\u001b[0m         \u001b[0mself\u001b[0m\u001b[0;34m.\u001b[0m\u001b[0mjobs\u001b[0m\u001b[0;34m.\u001b[0m\u001b[0mappend\u001b[0m\u001b[0;34m(\u001b[0m\u001b[0mself\u001b[0m\u001b[0;34m.\u001b[0m\u001b[0mlatest_training_job\u001b[0m\u001b[0;34m)\u001b[0m\u001b[0;34m\u001b[0m\u001b[0m\n\u001b[1;32m    463\u001b[0m         \u001b[0;32mif\u001b[0m \u001b[0mwait\u001b[0m\u001b[0;34m:\u001b[0m\u001b[0;34m\u001b[0m\u001b[0m\n",
      "\u001b[0;32m~/anaconda3/envs/amazonei_tensorflow_p36/lib/python3.6/site-packages/sagemaker/estimator.py\u001b[0m in \u001b[0;36mstart_new\u001b[0;34m(cls, estimator, inputs, experiment_config)\u001b[0m\n\u001b[1;32m   1011\u001b[0m             \u001b[0mtrain_args\u001b[0m\u001b[0;34m[\u001b[0m\u001b[0;34m\"enable_sagemaker_metrics\"\u001b[0m\u001b[0;34m]\u001b[0m \u001b[0;34m=\u001b[0m \u001b[0mestimator\u001b[0m\u001b[0;34m.\u001b[0m\u001b[0menable_sagemaker_metrics\u001b[0m\u001b[0;34m\u001b[0m\u001b[0m\n\u001b[1;32m   1012\u001b[0m \u001b[0;34m\u001b[0m\u001b[0m\n\u001b[0;32m-> 1013\u001b[0;31m         \u001b[0mestimator\u001b[0m\u001b[0;34m.\u001b[0m\u001b[0msagemaker_session\u001b[0m\u001b[0;34m.\u001b[0m\u001b[0mtrain\u001b[0m\u001b[0;34m(\u001b[0m\u001b[0;34m**\u001b[0m\u001b[0mtrain_args\u001b[0m\u001b[0;34m)\u001b[0m\u001b[0;34m\u001b[0m\u001b[0m\n\u001b[0m\u001b[1;32m   1014\u001b[0m \u001b[0;34m\u001b[0m\u001b[0m\n\u001b[1;32m   1015\u001b[0m         \u001b[0;32mreturn\u001b[0m \u001b[0mcls\u001b[0m\u001b[0;34m(\u001b[0m\u001b[0mestimator\u001b[0m\u001b[0;34m.\u001b[0m\u001b[0msagemaker_session\u001b[0m\u001b[0;34m,\u001b[0m \u001b[0mestimator\u001b[0m\u001b[0;34m.\u001b[0m\u001b[0m_current_job_name\u001b[0m\u001b[0;34m)\u001b[0m\u001b[0;34m\u001b[0m\u001b[0m\n",
      "\u001b[0;32m~/anaconda3/envs/amazonei_tensorflow_p36/lib/python3.6/site-packages/sagemaker/session.py\u001b[0m in \u001b[0;36mtrain\u001b[0;34m(self, input_mode, input_config, role, job_name, output_config, resource_config, vpc_config, hyperparameters, stop_condition, tags, metric_definitions, enable_network_isolation, image, algorithm_arn, encrypt_inter_container_traffic, train_use_spot_instances, checkpoint_s3_uri, checkpoint_local_path, experiment_config, debugger_rule_configs, debugger_hook_config, tensorboard_output_config, enable_sagemaker_metrics)\u001b[0m\n\u001b[1;32m    527\u001b[0m         \u001b[0mLOGGER\u001b[0m\u001b[0;34m.\u001b[0m\u001b[0minfo\u001b[0m\u001b[0;34m(\u001b[0m\u001b[0;34m\"Creating training-job with name: %s\"\u001b[0m\u001b[0;34m,\u001b[0m \u001b[0mjob_name\u001b[0m\u001b[0;34m)\u001b[0m\u001b[0;34m\u001b[0m\u001b[0m\n\u001b[1;32m    528\u001b[0m         \u001b[0mLOGGER\u001b[0m\u001b[0;34m.\u001b[0m\u001b[0mdebug\u001b[0m\u001b[0;34m(\u001b[0m\u001b[0;34m\"train request: %s\"\u001b[0m\u001b[0;34m,\u001b[0m \u001b[0mjson\u001b[0m\u001b[0;34m.\u001b[0m\u001b[0mdumps\u001b[0m\u001b[0;34m(\u001b[0m\u001b[0mtrain_request\u001b[0m\u001b[0;34m,\u001b[0m \u001b[0mindent\u001b[0m\u001b[0;34m=\u001b[0m\u001b[0;36m4\u001b[0m\u001b[0;34m)\u001b[0m\u001b[0;34m)\u001b[0m\u001b[0;34m\u001b[0m\u001b[0m\n\u001b[0;32m--> 529\u001b[0;31m         \u001b[0mself\u001b[0m\u001b[0;34m.\u001b[0m\u001b[0msagemaker_client\u001b[0m\u001b[0;34m.\u001b[0m\u001b[0mcreate_training_job\u001b[0m\u001b[0;34m(\u001b[0m\u001b[0;34m**\u001b[0m\u001b[0mtrain_request\u001b[0m\u001b[0;34m)\u001b[0m\u001b[0;34m\u001b[0m\u001b[0m\n\u001b[0m\u001b[1;32m    530\u001b[0m \u001b[0;34m\u001b[0m\u001b[0m\n\u001b[1;32m    531\u001b[0m     def process(\n",
      "\u001b[0;32m~/anaconda3/envs/amazonei_tensorflow_p36/lib/python3.6/site-packages/botocore/client.py\u001b[0m in \u001b[0;36m_api_call\u001b[0;34m(self, *args, **kwargs)\u001b[0m\n\u001b[1;32m    355\u001b[0m                     \"%s() only accepts keyword arguments.\" % py_operation_name)\n\u001b[1;32m    356\u001b[0m             \u001b[0;31m# The \"self\" in this scope is referring to the BaseClient.\u001b[0m\u001b[0;34m\u001b[0m\u001b[0;34m\u001b[0m\u001b[0m\n\u001b[0;32m--> 357\u001b[0;31m             \u001b[0;32mreturn\u001b[0m \u001b[0mself\u001b[0m\u001b[0;34m.\u001b[0m\u001b[0m_make_api_call\u001b[0m\u001b[0;34m(\u001b[0m\u001b[0moperation_name\u001b[0m\u001b[0;34m,\u001b[0m \u001b[0mkwargs\u001b[0m\u001b[0;34m)\u001b[0m\u001b[0;34m\u001b[0m\u001b[0m\n\u001b[0m\u001b[1;32m    358\u001b[0m \u001b[0;34m\u001b[0m\u001b[0m\n\u001b[1;32m    359\u001b[0m         \u001b[0m_api_call\u001b[0m\u001b[0;34m.\u001b[0m\u001b[0m__name__\u001b[0m \u001b[0;34m=\u001b[0m \u001b[0mstr\u001b[0m\u001b[0;34m(\u001b[0m\u001b[0mpy_operation_name\u001b[0m\u001b[0;34m)\u001b[0m\u001b[0;34m\u001b[0m\u001b[0m\n",
      "\u001b[0;32m~/anaconda3/envs/amazonei_tensorflow_p36/lib/python3.6/site-packages/botocore/client.py\u001b[0m in \u001b[0;36m_make_api_call\u001b[0;34m(self, operation_name, api_params)\u001b[0m\n\u001b[1;32m    659\u001b[0m             \u001b[0merror_code\u001b[0m \u001b[0;34m=\u001b[0m \u001b[0mparsed_response\u001b[0m\u001b[0;34m.\u001b[0m\u001b[0mget\u001b[0m\u001b[0;34m(\u001b[0m\u001b[0;34m\"Error\"\u001b[0m\u001b[0;34m,\u001b[0m \u001b[0;34m{\u001b[0m\u001b[0;34m}\u001b[0m\u001b[0;34m)\u001b[0m\u001b[0;34m.\u001b[0m\u001b[0mget\u001b[0m\u001b[0;34m(\u001b[0m\u001b[0;34m\"Code\"\u001b[0m\u001b[0;34m)\u001b[0m\u001b[0;34m\u001b[0m\u001b[0m\n\u001b[1;32m    660\u001b[0m             \u001b[0merror_class\u001b[0m \u001b[0;34m=\u001b[0m \u001b[0mself\u001b[0m\u001b[0;34m.\u001b[0m\u001b[0mexceptions\u001b[0m\u001b[0;34m.\u001b[0m\u001b[0mfrom_code\u001b[0m\u001b[0;34m(\u001b[0m\u001b[0merror_code\u001b[0m\u001b[0;34m)\u001b[0m\u001b[0;34m\u001b[0m\u001b[0m\n\u001b[0;32m--> 661\u001b[0;31m             \u001b[0;32mraise\u001b[0m \u001b[0merror_class\u001b[0m\u001b[0;34m(\u001b[0m\u001b[0mparsed_response\u001b[0m\u001b[0;34m,\u001b[0m \u001b[0moperation_name\u001b[0m\u001b[0;34m)\u001b[0m\u001b[0;34m\u001b[0m\u001b[0m\n\u001b[0m\u001b[1;32m    662\u001b[0m         \u001b[0;32melse\u001b[0m\u001b[0;34m:\u001b[0m\u001b[0;34m\u001b[0m\u001b[0m\n\u001b[1;32m    663\u001b[0m             \u001b[0;32mreturn\u001b[0m \u001b[0mparsed_response\u001b[0m\u001b[0;34m\u001b[0m\u001b[0m\n",
      "\u001b[0;31mResourceLimitExceeded\u001b[0m: An error occurred (ResourceLimitExceeded) when calling the CreateTrainingJob operation: The account-level service limit 'ml.c5.xlarge for training job usage' is 4 Instances, with current utilization of 4 Instances and a request delta of 1 Instances. Please contact AWS support to request an increase for this limit."
     ]
    }
   ],
   "source": [
    "drs = deepRacer.start_multi_model_simulations(model_params)   "
   ]
  },
  {
   "cell_type": "markdown",
   "metadata": {},
   "source": [
    "#### Plot Parallel Training Jobs"
   ]
  },
  {
   "cell_type": "code",
   "execution_count": 1,
   "metadata": {},
   "outputs": [],
   "source": [
    "deepRacer.plot_multi_model_runs_output(drs)"
   ]
  },
  {
   "cell_type": "markdown",
   "metadata": {},
   "source": [
    "#### Evaluate Multiple Training Jobs"
   ]
  },
  {
   "cell_type": "code",
   "execution_count": null,
   "metadata": {},
   "outputs": [],
   "source": [
    "deepRacer.multi_model_evaluation(drs)"
   ]
  },
  {
   "cell_type": "code",
   "execution_count": null,
   "metadata": {},
   "outputs": [],
   "source": []
  },
  {
   "cell_type": "code",
   "execution_count": null,
   "metadata": {},
   "outputs": [],
   "source": []
  },
  {
   "cell_type": "code",
   "execution_count": null,
   "metadata": {},
   "outputs": [],
   "source": []
  },
  {
   "cell_type": "code",
   "execution_count": null,
   "metadata": {},
   "outputs": [],
   "source": []
  },
  {
   "cell_type": "code",
   "execution_count": null,
   "metadata": {},
   "outputs": [],
   "source": []
  },
  {
   "cell_type": "code",
   "execution_count": null,
   "metadata": {},
   "outputs": [],
   "source": []
  },
  {
   "cell_type": "code",
   "execution_count": null,
   "metadata": {},
   "outputs": [],
   "source": []
  },
  {
   "cell_type": "code",
   "execution_count": null,
   "metadata": {},
   "outputs": [],
   "source": []
  },
  {
   "cell_type": "code",
   "execution_count": 6,
   "metadata": {},
   "outputs": [],
   "source": [
    "import os, sys\n",
    "import pandas as pd\n",
    "import json\n",
    "import matplotlib.pyplot as plt\n",
    "import matplotlib.animation as animation\n",
    "from IPython.display import display, clear_output\n",
    "from misc import get_execution_role, wait_for_s3_object\n"
   ]
  },
  {
   "cell_type": "code",
   "execution_count": 7,
   "metadata": {},
   "outputs": [],
   "source": [
    "class HiddenPrints:\n",
    "    def __enter__(self):\n",
    "        self._original_stdout = sys.stdout\n",
    "        sys.stdout = open(os.devnull, 'w')\n",
    "\n",
    "    def __exit__(self, exc_type, exc_val, exc_tb):\n",
    "        sys.stdout.close()\n",
    "        sys.stdout = self._original_stdout\n"
   ]
  },
  {
   "cell_type": "code",
   "execution_count": null,
   "metadata": {},
   "outputs": [],
   "source": []
  },
  {
   "cell_type": "code",
   "execution_count": null,
   "metadata": {},
   "outputs": [],
   "source": []
  },
  {
   "cell_type": "code",
   "execution_count": 15,
   "metadata": {},
   "outputs": [],
   "source": []
  },
  {
   "cell_type": "code",
   "execution_count": 14,
   "metadata": {},
   "outputs": [],
   "source": [
    "#use this to clean the simulation environment list!\n",
    "# deepRacer.configure_environment()\n",
    "sims = deepRacer.robomaker.list_simulation_applications()\n",
    "for sim in sims['simulationApplicationSummaries']:\n",
    "\n",
    "    deepRacer.robomaker.delete_simulation_application(application=sim['arn'])\n",
    "    \n",
    "    print(sim['arn'])"
   ]
  },
  {
   "cell_type": "code",
   "execution_count": 17,
   "metadata": {},
   "outputs": [
    {
     "ename": "InvalidParameterException",
     "evalue": "An error occurred (InvalidParameterException) when calling the DeleteSimulationApplication operation: Invalid simulationApplicationArn: ARN resource type simulation-job did not match expected type simulation-application",
     "output_type": "error",
     "traceback": [
      "\u001b[0;31m---------------------------------------------------------------------------\u001b[0m",
      "\u001b[0;31mInvalidParameterException\u001b[0m                 Traceback (most recent call last)",
      "\u001b[0;32m<ipython-input-17-e303bbd87097>\u001b[0m in \u001b[0;36m<module>\u001b[0;34m()\u001b[0m\n\u001b[1;32m      4\u001b[0m \u001b[0;32mfor\u001b[0m \u001b[0msim\u001b[0m \u001b[0;32min\u001b[0m \u001b[0msims\u001b[0m\u001b[0;34m[\u001b[0m\u001b[0;34m'simulationJobSummaries'\u001b[0m\u001b[0;34m]\u001b[0m\u001b[0;34m:\u001b[0m\u001b[0;34m\u001b[0m\u001b[0m\n\u001b[1;32m      5\u001b[0m \u001b[0;34m\u001b[0m\u001b[0m\n\u001b[0;32m----> 6\u001b[0;31m     \u001b[0mdeepRacer\u001b[0m\u001b[0;34m.\u001b[0m\u001b[0mrobomaker\u001b[0m\u001b[0;34m.\u001b[0m\u001b[0mdelete_simulation_application\u001b[0m\u001b[0;34m(\u001b[0m\u001b[0mapplication\u001b[0m\u001b[0;34m=\u001b[0m\u001b[0msim\u001b[0m\u001b[0;34m[\u001b[0m\u001b[0;34m'arn'\u001b[0m\u001b[0;34m]\u001b[0m\u001b[0;34m)\u001b[0m\u001b[0;34m\u001b[0m\u001b[0m\n\u001b[0m\u001b[1;32m      7\u001b[0m \u001b[0;34m\u001b[0m\u001b[0m\n\u001b[1;32m      8\u001b[0m     \u001b[0mprint\u001b[0m\u001b[0;34m(\u001b[0m\u001b[0msim\u001b[0m\u001b[0;34m[\u001b[0m\u001b[0;34m'simulationApplicationNames'\u001b[0m\u001b[0;34m]\u001b[0m\u001b[0;34m)\u001b[0m\u001b[0;34m\u001b[0m\u001b[0m\n",
      "\u001b[0;32m~/anaconda3/envs/amazonei_tensorflow_p36/lib/python3.6/site-packages/botocore/client.py\u001b[0m in \u001b[0;36m_api_call\u001b[0;34m(self, *args, **kwargs)\u001b[0m\n\u001b[1;32m    355\u001b[0m                     \"%s() only accepts keyword arguments.\" % py_operation_name)\n\u001b[1;32m    356\u001b[0m             \u001b[0;31m# The \"self\" in this scope is referring to the BaseClient.\u001b[0m\u001b[0;34m\u001b[0m\u001b[0;34m\u001b[0m\u001b[0m\n\u001b[0;32m--> 357\u001b[0;31m             \u001b[0;32mreturn\u001b[0m \u001b[0mself\u001b[0m\u001b[0;34m.\u001b[0m\u001b[0m_make_api_call\u001b[0m\u001b[0;34m(\u001b[0m\u001b[0moperation_name\u001b[0m\u001b[0;34m,\u001b[0m \u001b[0mkwargs\u001b[0m\u001b[0;34m)\u001b[0m\u001b[0;34m\u001b[0m\u001b[0m\n\u001b[0m\u001b[1;32m    358\u001b[0m \u001b[0;34m\u001b[0m\u001b[0m\n\u001b[1;32m    359\u001b[0m         \u001b[0m_api_call\u001b[0m\u001b[0;34m.\u001b[0m\u001b[0m__name__\u001b[0m \u001b[0;34m=\u001b[0m \u001b[0mstr\u001b[0m\u001b[0;34m(\u001b[0m\u001b[0mpy_operation_name\u001b[0m\u001b[0;34m)\u001b[0m\u001b[0;34m\u001b[0m\u001b[0m\n",
      "\u001b[0;32m~/anaconda3/envs/amazonei_tensorflow_p36/lib/python3.6/site-packages/botocore/client.py\u001b[0m in \u001b[0;36m_make_api_call\u001b[0;34m(self, operation_name, api_params)\u001b[0m\n\u001b[1;32m    659\u001b[0m             \u001b[0merror_code\u001b[0m \u001b[0;34m=\u001b[0m \u001b[0mparsed_response\u001b[0m\u001b[0;34m.\u001b[0m\u001b[0mget\u001b[0m\u001b[0;34m(\u001b[0m\u001b[0;34m\"Error\"\u001b[0m\u001b[0;34m,\u001b[0m \u001b[0;34m{\u001b[0m\u001b[0;34m}\u001b[0m\u001b[0;34m)\u001b[0m\u001b[0;34m.\u001b[0m\u001b[0mget\u001b[0m\u001b[0;34m(\u001b[0m\u001b[0;34m\"Code\"\u001b[0m\u001b[0;34m)\u001b[0m\u001b[0;34m\u001b[0m\u001b[0m\n\u001b[1;32m    660\u001b[0m             \u001b[0merror_class\u001b[0m \u001b[0;34m=\u001b[0m \u001b[0mself\u001b[0m\u001b[0;34m.\u001b[0m\u001b[0mexceptions\u001b[0m\u001b[0;34m.\u001b[0m\u001b[0mfrom_code\u001b[0m\u001b[0;34m(\u001b[0m\u001b[0merror_code\u001b[0m\u001b[0;34m)\u001b[0m\u001b[0;34m\u001b[0m\u001b[0m\n\u001b[0;32m--> 661\u001b[0;31m             \u001b[0;32mraise\u001b[0m \u001b[0merror_class\u001b[0m\u001b[0;34m(\u001b[0m\u001b[0mparsed_response\u001b[0m\u001b[0;34m,\u001b[0m \u001b[0moperation_name\u001b[0m\u001b[0;34m)\u001b[0m\u001b[0;34m\u001b[0m\u001b[0m\n\u001b[0m\u001b[1;32m    662\u001b[0m         \u001b[0;32melse\u001b[0m\u001b[0;34m:\u001b[0m\u001b[0;34m\u001b[0m\u001b[0m\n\u001b[1;32m    663\u001b[0m             \u001b[0;32mreturn\u001b[0m \u001b[0mparsed_response\u001b[0m\u001b[0;34m\u001b[0m\u001b[0m\n",
      "\u001b[0;31mInvalidParameterException\u001b[0m: An error occurred (InvalidParameterException) when calling the DeleteSimulationApplication operation: Invalid simulationApplicationArn: ARN resource type simulation-job did not match expected type simulation-application"
     ]
    }
   ],
   "source": [
    "#use this to clean the simulation environment list!\n",
    "# deepRacer.configure_environment()\n",
    "sims = deepRacer.robomaker.list_simulation_jobs()\n",
    "for sim in sims['simulationJobSummaries']:\n",
    "\n",
    "    deepRacer.robomaker.delete_simulation_application(application=sim['arn'])\n",
    "    \n",
    "    print(sim['simulationApplicationNames'])"
   ]
  },
  {
   "cell_type": "code",
   "execution_count": null,
   "metadata": {},
   "outputs": [],
   "source": []
  }
 ],
 "metadata": {
  "anaconda-cloud": {},
  "kernelspec": {
   "display_name": "conda_amazonei_tensorflow_p36",
   "language": "python",
   "name": "conda_amazonei_tensorflow_p36"
  },
  "language_info": {
   "codemirror_mode": {
    "name": "ipython",
    "version": 3
   },
   "file_extension": ".py",
   "mimetype": "text/x-python",
   "name": "python",
   "nbconvert_exporter": "python",
   "pygments_lexer": "ipython3",
   "version": "3.6.5"
  }
 },
 "nbformat": 4,
 "nbformat_minor": 2
}
